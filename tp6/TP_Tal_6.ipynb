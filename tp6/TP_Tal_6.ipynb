{
  "cells": [
    {
      "cell_type": "markdown",
      "metadata": {},
      "source": [
        "## TP6: Clustering and Classifying Text"
      ]
    },
    {
      "cell_type": "code",
      "execution_count": null,
      "metadata": {
        "colab": {
          "base_uri": "https://localhost:8080/"
        },
        "id": "0qRyOFRgA-08",
        "outputId": "9cf085f6-f301-46c5-dcd0-b0e095a48745"
      },
      "outputs": [
        {
          "name": "stdout",
          "output_type": "stream",
          "text": [
            "Mounted at /content/drive\n"
          ]
        }
      ],
      "source": [
        "from google.colab import drive\n",
        "drive.mount('/content/drive')"
      ]
    },
    {
      "cell_type": "code",
      "execution_count": null,
      "metadata": {
        "colab": {
          "base_uri": "https://localhost:8080/"
        },
        "id": "8mpYk2GKBGxH",
        "outputId": "25bdce39-65e9-41cb-cc1f-3202d15c404a"
      },
      "outputs": [
        {
          "name": "stdout",
          "output_type": "stream",
          "text": [
            "Collecting pyclustering\n",
            "  Downloading pyclustering-0.10.1.2.tar.gz (2.6 MB)\n",
            "\u001b[2K     \u001b[90m━━━━━━━━━━━━━━━━━━━━━━━━━━━━━━━━━━━━━━━━\u001b[0m \u001b[32m2.6/2.6 MB\u001b[0m \u001b[31m6.2 MB/s\u001b[0m eta \u001b[36m0:00:00\u001b[0m\n",
            "\u001b[?25h  Preparing metadata (setup.py) ... \u001b[?25l\u001b[?25hdone\n",
            "Requirement already satisfied: scipy>=1.1.0 in /usr/local/lib/python3.10/dist-packages (from pyclustering) (1.11.4)\n",
            "Requirement already satisfied: matplotlib>=3.0.0 in /usr/local/lib/python3.10/dist-packages (from pyclustering) (3.7.1)\n",
            "Requirement already satisfied: numpy>=1.15.2 in /usr/local/lib/python3.10/dist-packages (from pyclustering) (1.23.5)\n",
            "Requirement already satisfied: Pillow>=5.2.0 in /usr/local/lib/python3.10/dist-packages (from pyclustering) (9.4.0)\n",
            "Requirement already satisfied: contourpy>=1.0.1 in /usr/local/lib/python3.10/dist-packages (from matplotlib>=3.0.0->pyclustering) (1.2.0)\n",
            "Requirement already satisfied: cycler>=0.10 in /usr/local/lib/python3.10/dist-packages (from matplotlib>=3.0.0->pyclustering) (0.12.1)\n",
            "Requirement already satisfied: fonttools>=4.22.0 in /usr/local/lib/python3.10/dist-packages (from matplotlib>=3.0.0->pyclustering) (4.45.1)\n",
            "Requirement already satisfied: kiwisolver>=1.0.1 in /usr/local/lib/python3.10/dist-packages (from matplotlib>=3.0.0->pyclustering) (1.4.5)\n",
            "Requirement already satisfied: packaging>=20.0 in /usr/local/lib/python3.10/dist-packages (from matplotlib>=3.0.0->pyclustering) (23.2)\n",
            "Requirement already satisfied: pyparsing>=2.3.1 in /usr/local/lib/python3.10/dist-packages (from matplotlib>=3.0.0->pyclustering) (3.1.1)\n",
            "Requirement already satisfied: python-dateutil>=2.7 in /usr/local/lib/python3.10/dist-packages (from matplotlib>=3.0.0->pyclustering) (2.8.2)\n",
            "Requirement already satisfied: six>=1.5 in /usr/local/lib/python3.10/dist-packages (from python-dateutil>=2.7->matplotlib>=3.0.0->pyclustering) (1.16.0)\n",
            "Building wheels for collected packages: pyclustering\n",
            "  Building wheel for pyclustering (setup.py) ... \u001b[?25l\u001b[?25hdone\n",
            "  Created wheel for pyclustering: filename=pyclustering-0.10.1.2-py3-none-any.whl size=2395103 sha256=961a563121a26ab5f1d0359fbce3e8339f503e66e4c3795c4f2f62e688bff97a\n",
            "  Stored in directory: /root/.cache/pip/wheels/b5/42/97/11eee99f5c1e4fdfc170f0a54f9c9eb195df66edb4cf69f449\n",
            "Successfully built pyclustering\n",
            "Installing collected packages: pyclustering\n",
            "Successfully installed pyclustering-0.10.1.2\n"
          ]
        }
      ],
      "source": [
        "pip install pyclustering"
      ]
    },
    {
      "cell_type": "code",
      "execution_count": null,
      "metadata": {
        "colab": {
          "base_uri": "https://localhost:8080/"
        },
        "id": "wauqe09JBJTj",
        "outputId": "b39ae27e-8d7b-4fa9-b54c-8f7a320c501b"
      },
      "outputs": [
        {
          "name": "stdout",
          "output_type": "stream",
          "text": [
            "Collecting mpld3\n",
            "  Downloading mpld3-0.5.9-py3-none-any.whl (201 kB)\n",
            "\u001b[2K     \u001b[90m━━━━━━━━━━━━━━━━━━━━━━━━━━━━━━━━━━━━━━━━\u001b[0m \u001b[32m201.2/201.2 kB\u001b[0m \u001b[31m3.4 MB/s\u001b[0m eta \u001b[36m0:00:00\u001b[0m\n",
            "\u001b[?25hRequirement already satisfied: jinja2 in /usr/local/lib/python3.10/dist-packages (from mpld3) (3.1.2)\n",
            "Requirement already satisfied: matplotlib in /usr/local/lib/python3.10/dist-packages (from mpld3) (3.7.1)\n",
            "Requirement already satisfied: MarkupSafe>=2.0 in /usr/local/lib/python3.10/dist-packages (from jinja2->mpld3) (2.1.3)\n",
            "Requirement already satisfied: contourpy>=1.0.1 in /usr/local/lib/python3.10/dist-packages (from matplotlib->mpld3) (1.2.0)\n",
            "Requirement already satisfied: cycler>=0.10 in /usr/local/lib/python3.10/dist-packages (from matplotlib->mpld3) (0.12.1)\n",
            "Requirement already satisfied: fonttools>=4.22.0 in /usr/local/lib/python3.10/dist-packages (from matplotlib->mpld3) (4.45.1)\n",
            "Requirement already satisfied: kiwisolver>=1.0.1 in /usr/local/lib/python3.10/dist-packages (from matplotlib->mpld3) (1.4.5)\n",
            "Requirement already satisfied: numpy>=1.20 in /usr/local/lib/python3.10/dist-packages (from matplotlib->mpld3) (1.23.5)\n",
            "Requirement already satisfied: packaging>=20.0 in /usr/local/lib/python3.10/dist-packages (from matplotlib->mpld3) (23.2)\n",
            "Requirement already satisfied: pillow>=6.2.0 in /usr/local/lib/python3.10/dist-packages (from matplotlib->mpld3) (9.4.0)\n",
            "Requirement already satisfied: pyparsing>=2.3.1 in /usr/local/lib/python3.10/dist-packages (from matplotlib->mpld3) (3.1.1)\n",
            "Requirement already satisfied: python-dateutil>=2.7 in /usr/local/lib/python3.10/dist-packages (from matplotlib->mpld3) (2.8.2)\n",
            "Requirement already satisfied: six>=1.5 in /usr/local/lib/python3.10/dist-packages (from python-dateutil>=2.7->matplotlib->mpld3) (1.16.0)\n",
            "Installing collected packages: mpld3\n",
            "Successfully installed mpld3-0.5.9\n"
          ]
        }
      ],
      "source": [
        "pip install mpld3"
      ]
    },
    {
      "cell_type": "code",
      "execution_count": null,
      "metadata": {
        "id": "rVnfyvBJBVYi"
      },
      "outputs": [],
      "source": [
        "# import libraries\n",
        "import numpy as np\n",
        "import pandas as pd\n",
        "import nltk\n",
        "from nltk.stem.snowball import SnowballStemmer\n",
        "from bs4 import BeautifulSoup\n",
        "import re\n",
        "import os\n",
        "import codecs\n",
        "from sklearn import feature_extraction\n",
        "import mpld3\n",
        "from sklearn.metrics.pairwise import cosine_similarity\n",
        "import os\n",
        "import matplotlib.pyplot as plt\n",
        "import matplotlib as mpl\n",
        "from sklearn.manifold import MDS"
      ]
    },
    {
      "cell_type": "code",
      "execution_count": null,
      "metadata": {
        "id": "jQ82QQ5nBYus"
      },
      "outputs": [],
      "source": [
        "# Let's use the same comcastcomplaints dataset we use for classification\n",
        "data = pd.read_csv ('/content/drive/MyDrive/data/comcast_consumeraffairs_complaints.csv')\n",
        "\n",
        "# selecting required columns and rows\n",
        "data = data [['text']]\n",
        "data = data [pd.notnull (data ['text'])]\n",
        "\n",
        "# let's do the clustering for just 300 rows. It's easier to interpret\n",
        "data_sample = data.sample (300)"
      ]
    },
    {
      "cell_type": "code",
      "execution_count": null,
      "metadata": {
        "colab": {
          "base_uri": "https://localhost:8080/",
          "height": 206
        },
        "id": "ZCWCZnNOBgP2",
        "outputId": "02040ff3-64aa-4fb1-a7d5-5ca0db98cc5f"
      },
      "outputs": [
        {
          "data": {
            "text/html": [
              "\n",
              "  <div id=\"df-0053b73f-1910-45e7-8535-8c2fc8dcd71c\" class=\"colab-df-container\">\n",
              "    <div>\n",
              "<style scoped>\n",
              "    .dataframe tbody tr th:only-of-type {\n",
              "        vertical-align: middle;\n",
              "    }\n",
              "\n",
              "    .dataframe tbody tr th {\n",
              "        vertical-align: top;\n",
              "    }\n",
              "\n",
              "    .dataframe thead th {\n",
              "        text-align: right;\n",
              "    }\n",
              "</style>\n",
              "<table border=\"1\" class=\"dataframe\">\n",
              "  <thead>\n",
              "    <tr style=\"text-align: right;\">\n",
              "      <th></th>\n",
              "      <th>text</th>\n",
              "    </tr>\n",
              "  </thead>\n",
              "  <tbody>\n",
              "    <tr>\n",
              "      <th>0</th>\n",
              "      <td>I used to love Comcast. Until all these consta...</td>\n",
              "    </tr>\n",
              "    <tr>\n",
              "      <th>1</th>\n",
              "      <td>I'm so over Comcast! The worst internet provid...</td>\n",
              "    </tr>\n",
              "    <tr>\n",
              "      <th>2</th>\n",
              "      <td>If I could give them a negative star or no sta...</td>\n",
              "    </tr>\n",
              "    <tr>\n",
              "      <th>3</th>\n",
              "      <td>I've had the worst experiences so far since in...</td>\n",
              "    </tr>\n",
              "    <tr>\n",
              "      <th>4</th>\n",
              "      <td>Check your contract when you sign up for Comca...</td>\n",
              "    </tr>\n",
              "  </tbody>\n",
              "</table>\n",
              "</div>\n",
              "    <div class=\"colab-df-buttons\">\n",
              "\n",
              "  <div class=\"colab-df-container\">\n",
              "    <button class=\"colab-df-convert\" onclick=\"convertToInteractive('df-0053b73f-1910-45e7-8535-8c2fc8dcd71c')\"\n",
              "            title=\"Convert this dataframe to an interactive table.\"\n",
              "            style=\"display:none;\">\n",
              "\n",
              "  <svg xmlns=\"http://www.w3.org/2000/svg\" height=\"24px\" viewBox=\"0 -960 960 960\">\n",
              "    <path d=\"M120-120v-720h720v720H120Zm60-500h600v-160H180v160Zm220 220h160v-160H400v160Zm0 220h160v-160H400v160ZM180-400h160v-160H180v160Zm440 0h160v-160H620v160ZM180-180h160v-160H180v160Zm440 0h160v-160H620v160Z\"/>\n",
              "  </svg>\n",
              "    </button>\n",
              "\n",
              "  <style>\n",
              "    .colab-df-container {\n",
              "      display:flex;\n",
              "      gap: 12px;\n",
              "    }\n",
              "\n",
              "    .colab-df-convert {\n",
              "      background-color: #E8F0FE;\n",
              "      border: none;\n",
              "      border-radius: 50%;\n",
              "      cursor: pointer;\n",
              "      display: none;\n",
              "      fill: #1967D2;\n",
              "      height: 32px;\n",
              "      padding: 0 0 0 0;\n",
              "      width: 32px;\n",
              "    }\n",
              "\n",
              "    .colab-df-convert:hover {\n",
              "      background-color: #E2EBFA;\n",
              "      box-shadow: 0px 1px 2px rgba(60, 64, 67, 0.3), 0px 1px 3px 1px rgba(60, 64, 67, 0.15);\n",
              "      fill: #174EA6;\n",
              "    }\n",
              "\n",
              "    .colab-df-buttons div {\n",
              "      margin-bottom: 4px;\n",
              "    }\n",
              "\n",
              "    [theme=dark] .colab-df-convert {\n",
              "      background-color: #3B4455;\n",
              "      fill: #D2E3FC;\n",
              "    }\n",
              "\n",
              "    [theme=dark] .colab-df-convert:hover {\n",
              "      background-color: #434B5C;\n",
              "      box-shadow: 0px 1px 3px 1px rgba(0, 0, 0, 0.15);\n",
              "      filter: drop-shadow(0px 1px 2px rgba(0, 0, 0, 0.3));\n",
              "      fill: #FFFFFF;\n",
              "    }\n",
              "  </style>\n",
              "\n",
              "    <script>\n",
              "      const buttonEl =\n",
              "        document.querySelector('#df-0053b73f-1910-45e7-8535-8c2fc8dcd71c button.colab-df-convert');\n",
              "      buttonEl.style.display =\n",
              "        google.colab.kernel.accessAllowed ? 'block' : 'none';\n",
              "\n",
              "      async function convertToInteractive(key) {\n",
              "        const element = document.querySelector('#df-0053b73f-1910-45e7-8535-8c2fc8dcd71c');\n",
              "        const dataTable =\n",
              "          await google.colab.kernel.invokeFunction('convertToInteractive',\n",
              "                                                    [key], {});\n",
              "        if (!dataTable) return;\n",
              "\n",
              "        const docLinkHtml = 'Like what you see? Visit the ' +\n",
              "          '<a target=\"_blank\" href=https://colab.research.google.com/notebooks/data_table.ipynb>data table notebook</a>'\n",
              "          + ' to learn more about interactive tables.';\n",
              "        element.innerHTML = '';\n",
              "        dataTable['output_type'] = 'display_data';\n",
              "        await google.colab.output.renderOutput(dataTable, element);\n",
              "        const docLink = document.createElement('div');\n",
              "        docLink.innerHTML = docLinkHtml;\n",
              "        element.appendChild(docLink);\n",
              "      }\n",
              "    </script>\n",
              "  </div>\n",
              "\n",
              "\n",
              "<div id=\"df-01ceb982-5042-4ac0-a2e9-174dc0b31410\">\n",
              "  <button class=\"colab-df-quickchart\" onclick=\"quickchart('df-01ceb982-5042-4ac0-a2e9-174dc0b31410')\"\n",
              "            title=\"Suggest charts\"\n",
              "            style=\"display:none;\">\n",
              "\n",
              "<svg xmlns=\"http://www.w3.org/2000/svg\" height=\"24px\"viewBox=\"0 0 24 24\"\n",
              "     width=\"24px\">\n",
              "    <g>\n",
              "        <path d=\"M19 3H5c-1.1 0-2 .9-2 2v14c0 1.1.9 2 2 2h14c1.1 0 2-.9 2-2V5c0-1.1-.9-2-2-2zM9 17H7v-7h2v7zm4 0h-2V7h2v10zm4 0h-2v-4h2v4z\"/>\n",
              "    </g>\n",
              "</svg>\n",
              "  </button>\n",
              "\n",
              "<style>\n",
              "  .colab-df-quickchart {\n",
              "      --bg-color: #E8F0FE;\n",
              "      --fill-color: #1967D2;\n",
              "      --hover-bg-color: #E2EBFA;\n",
              "      --hover-fill-color: #174EA6;\n",
              "      --disabled-fill-color: #AAA;\n",
              "      --disabled-bg-color: #DDD;\n",
              "  }\n",
              "\n",
              "  [theme=dark] .colab-df-quickchart {\n",
              "      --bg-color: #3B4455;\n",
              "      --fill-color: #D2E3FC;\n",
              "      --hover-bg-color: #434B5C;\n",
              "      --hover-fill-color: #FFFFFF;\n",
              "      --disabled-bg-color: #3B4455;\n",
              "      --disabled-fill-color: #666;\n",
              "  }\n",
              "\n",
              "  .colab-df-quickchart {\n",
              "    background-color: var(--bg-color);\n",
              "    border: none;\n",
              "    border-radius: 50%;\n",
              "    cursor: pointer;\n",
              "    display: none;\n",
              "    fill: var(--fill-color);\n",
              "    height: 32px;\n",
              "    padding: 0;\n",
              "    width: 32px;\n",
              "  }\n",
              "\n",
              "  .colab-df-quickchart:hover {\n",
              "    background-color: var(--hover-bg-color);\n",
              "    box-shadow: 0 1px 2px rgba(60, 64, 67, 0.3), 0 1px 3px 1px rgba(60, 64, 67, 0.15);\n",
              "    fill: var(--button-hover-fill-color);\n",
              "  }\n",
              "\n",
              "  .colab-df-quickchart-complete:disabled,\n",
              "  .colab-df-quickchart-complete:disabled:hover {\n",
              "    background-color: var(--disabled-bg-color);\n",
              "    fill: var(--disabled-fill-color);\n",
              "    box-shadow: none;\n",
              "  }\n",
              "\n",
              "  .colab-df-spinner {\n",
              "    border: 2px solid var(--fill-color);\n",
              "    border-color: transparent;\n",
              "    border-bottom-color: var(--fill-color);\n",
              "    animation:\n",
              "      spin 1s steps(1) infinite;\n",
              "  }\n",
              "\n",
              "  @keyframes spin {\n",
              "    0% {\n",
              "      border-color: transparent;\n",
              "      border-bottom-color: var(--fill-color);\n",
              "      border-left-color: var(--fill-color);\n",
              "    }\n",
              "    20% {\n",
              "      border-color: transparent;\n",
              "      border-left-color: var(--fill-color);\n",
              "      border-top-color: var(--fill-color);\n",
              "    }\n",
              "    30% {\n",
              "      border-color: transparent;\n",
              "      border-left-color: var(--fill-color);\n",
              "      border-top-color: var(--fill-color);\n",
              "      border-right-color: var(--fill-color);\n",
              "    }\n",
              "    40% {\n",
              "      border-color: transparent;\n",
              "      border-right-color: var(--fill-color);\n",
              "      border-top-color: var(--fill-color);\n",
              "    }\n",
              "    60% {\n",
              "      border-color: transparent;\n",
              "      border-right-color: var(--fill-color);\n",
              "    }\n",
              "    80% {\n",
              "      border-color: transparent;\n",
              "      border-right-color: var(--fill-color);\n",
              "      border-bottom-color: var(--fill-color);\n",
              "    }\n",
              "    90% {\n",
              "      border-color: transparent;\n",
              "      border-bottom-color: var(--fill-color);\n",
              "    }\n",
              "  }\n",
              "</style>\n",
              "\n",
              "  <script>\n",
              "    async function quickchart(key) {\n",
              "      const quickchartButtonEl =\n",
              "        document.querySelector('#' + key + ' button');\n",
              "      quickchartButtonEl.disabled = true;  // To prevent multiple clicks.\n",
              "      quickchartButtonEl.classList.add('colab-df-spinner');\n",
              "      try {\n",
              "        const charts = await google.colab.kernel.invokeFunction(\n",
              "            'suggestCharts', [key], {});\n",
              "      } catch (error) {\n",
              "        console.error('Error during call to suggestCharts:', error);\n",
              "      }\n",
              "      quickchartButtonEl.classList.remove('colab-df-spinner');\n",
              "      quickchartButtonEl.classList.add('colab-df-quickchart-complete');\n",
              "    }\n",
              "    (() => {\n",
              "      let quickchartButtonEl =\n",
              "        document.querySelector('#df-01ceb982-5042-4ac0-a2e9-174dc0b31410 button');\n",
              "      quickchartButtonEl.style.display =\n",
              "        google.colab.kernel.accessAllowed ? 'block' : 'none';\n",
              "    })();\n",
              "  </script>\n",
              "</div>\n",
              "    </div>\n",
              "  </div>\n"
            ],
            "text/plain": [
              "                                                text\n",
              "0  I used to love Comcast. Until all these consta...\n",
              "1  I'm so over Comcast! The worst internet provid...\n",
              "2  If I could give them a negative star or no sta...\n",
              "3  I've had the worst experiences so far since in...\n",
              "4  Check your contract when you sign up for Comca..."
            ]
          },
          "execution_count": 7,
          "metadata": {},
          "output_type": "execute_result"
        }
      ],
      "source": [
        "data.head()"
      ]
    },
    {
      "cell_type": "code",
      "execution_count": null,
      "metadata": {
        "colab": {
          "base_uri": "https://localhost:8080/"
        },
        "id": "CRyDLdvABysV",
        "outputId": "0697fe4c-6e69-4aa6-ab27-62f3b8cecde1"
      },
      "outputs": [
        {
          "data": {
            "text/plain": [
              "(5629, 1)"
            ]
          },
          "execution_count": 8,
          "metadata": {},
          "output_type": "execute_result"
        }
      ],
      "source": [
        "data.shape"
      ]
    },
    {
      "cell_type": "code",
      "execution_count": null,
      "metadata": {
        "colab": {
          "base_uri": "https://localhost:8080/"
        },
        "id": "-F9bxbhEBja8",
        "outputId": "1f64cfa3-f9cd-4f74-889e-f31fec8fc7c0"
      },
      "outputs": [
        {
          "data": {
            "text/plain": [
              "(300, 1)"
            ]
          },
          "execution_count": 9,
          "metadata": {},
          "output_type": "execute_result"
        }
      ],
      "source": [
        "data_sample.shape"
      ]
    },
    {
      "cell_type": "code",
      "execution_count": null,
      "metadata": {
        "colab": {
          "base_uri": "https://localhost:8080/"
        },
        "id": "uK6bZsM5BrUw",
        "outputId": "0dd45f6d-9500-42ad-826b-c3c7f4ff58a8"
      },
      "outputs": [
        {
          "name": "stderr",
          "output_type": "stream",
          "text": [
            "[nltk_data] Downloading package stopwords to /root/nltk_data...\n",
            "[nltk_data]   Unzipping corpora/stopwords.zip.\n"
          ]
        },
        {
          "data": {
            "text/plain": [
              "True"
            ]
          },
          "execution_count": 10,
          "metadata": {},
          "output_type": "execute_result"
        }
      ],
      "source": [
        "nltk.download('stopwords')"
      ]
    },
    {
      "cell_type": "code",
      "execution_count": null,
      "metadata": {
        "colab": {
          "base_uri": "https://localhost:8080/"
        },
        "id": "mLJVJ0OpBtdE",
        "outputId": "302ed84c-f9af-4ea3-8a88-26d80ef68eac"
      },
      "outputs": [
        {
          "name": "stderr",
          "output_type": "stream",
          "text": [
            "[nltk_data] Downloading package punkt to /root/nltk_data...\n",
            "[nltk_data]   Unzipping tokenizers/punkt.zip.\n"
          ]
        },
        {
          "data": {
            "text/plain": [
              "True"
            ]
          },
          "execution_count": 11,
          "metadata": {},
          "output_type": "execute_result"
        }
      ],
      "source": [
        "nltk.download('punkt')"
      ]
    },
    {
      "cell_type": "code",
      "execution_count": null,
      "metadata": {
        "colab": {
          "base_uri": "https://localhost:8080/"
        },
        "id": "pecyraZABvi6",
        "outputId": "65007dad-e5ca-41cb-d6f1-d73dad07b28b"
      },
      "outputs": [
        {
          "name": "stderr",
          "output_type": "stream",
          "text": [
            "/usr/local/lib/python3.10/dist-packages/sklearn/feature_extraction/text.py:528: UserWarning: The parameter 'token_pattern' will not be used since 'tokenizer' is not None'\n",
            "  warnings.warn(\n"
          ]
        },
        {
          "name": "stdout",
          "output_type": "stream",
          "text": [
            "(300, 151)\n"
          ]
        }
      ],
      "source": [
        "# remove unwanted symbol\n",
        "data_sample ['text'] = data_sample ['text'].str.replace ('XXXX', \"\")\n",
        "\n",
        "# convert dataframe to list\n",
        "complaints = data_sample ['text'].tolist ()\n",
        "\n",
        "# create the rank of documents - I will use it later\n",
        "# using it as ground truth labels for clustering evaluation metrics like homogeneity.\n",
        "ranks = []\n",
        "for i in range (1, len (complaints) + 1):\n",
        "    ranks.append (i)\n",
        "\n",
        "# stop words\n",
        "stopwords = nltk.corpus.stopwords.words ('english')\n",
        "\n",
        "# load 'stemmer'\n",
        "stemmer = SnowballStemmer ('english')\n",
        "\n",
        "# functions for sentence tokenizer, to remove tokens and raw # pucntuation\n",
        "def tokenize_and_stem (text):\n",
        "    tokens = [word for sent in nltk.sent_tokenize (text) for word in nltk.word_tokenize (sent)]\n",
        "    filtered_tokens = []\n",
        "    for token in tokens:\n",
        "        if re.search ('[a-zA-Z]', token):\n",
        "            filtered_tokens.append (token)\n",
        "    stems = [stemmer.stem (t) for t in filtered_tokens]\n",
        "    return stems\n",
        "\n",
        "def tokenize_only (text):\n",
        "    tokens =[word.lower () for sent in nltk.sent_tokenize (text) for word\n",
        "            in nltk.word_tokenize (sent)]\n",
        "\n",
        "    filtered_tokens = []\n",
        "    for token in tokens:\n",
        "        if re.search ('[a-zA-Z]', token):\n",
        "            filtered_tokens.append (token)\n",
        "    return filtered_tokens\n",
        "\n",
        "from sklearn.feature_extraction.text import TfidfVectorizer\n",
        "tfidf_vectorizer = TfidfVectorizer (max_df = 0.8, max_features = 200000, min_df = 0.2,\n",
        "                                   use_idf = True, tokenizer = tokenize_and_stem, ngram_range = (1, 3))\n",
        "# fit the vectiorizer to data\n",
        "tfidf_matrix = tfidf_vectorizer.fit_transform (complaints)\n",
        "terms = tfidf_vectorizer.get_feature_names_out ()\n",
        "print (tfidf_matrix.shape)"
      ]
    },
    {
      "cell_type": "markdown",
      "metadata": {
        "id": "MN2f31FEB_aF"
      },
      "source": [
        "## K-Means"
      ]
    },
    {
      "cell_type": "code",
      "execution_count": null,
      "metadata": {
        "colab": {
          "base_uri": "https://localhost:8080/"
        },
        "id": "QvJ2f2GQCBae",
        "outputId": "86b89378-1011-4084-a8e3-7ba28068c143"
      },
      "outputs": [
        {
          "name": "stderr",
          "output_type": "stream",
          "text": [
            "/usr/local/lib/python3.10/dist-packages/sklearn/cluster/_kmeans.py:870: FutureWarning: The default value of `n_init` will change from 10 to 'auto' in 1.4. Set the value of `n_init` explicitly to suppress the warning\n",
            "  warnings.warn(\n"
          ]
        },
        {
          "data": {
            "text/plain": [
              "1    92\n",
              "3    62\n",
              "5    50\n",
              "2    38\n",
              "0    36\n",
              "4    22\n",
              "Name: cluster, dtype: int64"
            ]
          },
          "execution_count": 13,
          "metadata": {},
          "output_type": "execute_result"
        }
      ],
      "source": [
        "# import Kmeans\n",
        "from sklearn.cluster import KMeans\n",
        "\n",
        "# define numbers of clusters\n",
        "num_clusters = 6\n",
        "\n",
        "# running clustreing algorithm\n",
        "km = KMeans (n_clusters = num_clusters)\n",
        "km.fit (tfidf_matrix)\n",
        "\n",
        "# final clusters\n",
        "clusters = km.labels_.tolist ()\n",
        "complaints_data = {'rank': ranks, 'complaints': complaints, 'cluster': clusters}\n",
        "frame = pd.DataFrame (complaints_data, index = [clusters], columns = ['rank', 'cluster'])\n",
        "\n",
        "# number of docs per cluster\n",
        "frame ['cluster'].value_counts ()"
      ]
    },
    {
      "cell_type": "code",
      "execution_count": null,
      "metadata": {
        "colab": {
          "base_uri": "https://localhost:8080/"
        },
        "id": "wbrkQKvqCJIg",
        "outputId": "754037f0-822c-47bd-da84-d23ba183ff41"
      },
      "outputs": [
        {
          "name": "stdout",
          "output_type": "stream",
          "text": [
            "Cluster 0 words: b'was',\n",
            " b'my',\n",
            " b'i',\n",
            " b'that',\n",
            " b'told',\n",
            " b'install',\n",
            "Cluster 1 words: b'was',\n",
            " b'my',\n",
            " b'that',\n",
            " b'call',\n",
            " b'me',\n",
            " b'he',\n",
            "Cluster 2 words: b'we',\n",
            " b'our',\n",
            " b'they',\n",
            " b'of',\n",
            " b'have',\n",
            " b'is',\n",
            "Cluster 3 words: b'you',\n",
            " b'they',\n",
            " b'of',\n",
            " b'have',\n",
            " b'are',\n",
            " b'get',\n",
            "Cluster 4 words: b'box',\n",
            " b'cable',\n",
            " b'my',\n",
            " b'have',\n",
            " b'they',\n",
            " b'that',\n",
            "Cluster 5 words: b'my',\n",
            " b'is',\n",
            " b'have',\n",
            " b'bills',\n",
            " b'they',\n",
            " b'that',\n"
          ]
        }
      ],
      "source": [
        "totalvocab_stemmed = []\n",
        "totalvocab_tokenized = []\n",
        "for i in complaints:\n",
        "    allwords_stemmed = tokenize_and_stem (i)\n",
        "    totalvocab_stemmed.extend (allwords_stemmed)\n",
        "    allwords_tokenized = tokenize_only (i)\n",
        "    totalvocab_tokenized.extend (allwords_tokenized)\n",
        "vocab_frame = pd.DataFrame ({'words': totalvocab_tokenized}, index = totalvocab_stemmed)\n",
        "\n",
        "# sort cluster centers by proximity to centroid\n",
        "order_centroids = km.cluster_centers_.argsort ()[:, ::-1]\n",
        "for i in range (num_clusters):\n",
        "    print (\"Cluster %d words:\" % i, end = \"\")\n",
        "    for ind in order_centroids [i, :6]:\n",
        "        print (' %s' % vocab_frame.loc [terms [ind].split (' ')].values.tolist ()[0][0].encode ('utf-8', 'ignore'), end = ',')\n",
        "        print ()"
      ]
    },
    {
      "cell_type": "code",
      "execution_count": null,
      "metadata": {
        "colab": {
          "base_uri": "https://localhost:8080/"
        },
        "id": "xxbKBRQZCL_M",
        "outputId": "65fa50ac-b176-4fd9-e07d-136e3f74270a"
      },
      "outputs": [
        {
          "name": "stdout",
          "output_type": "stream",
          "text": [
            "Homogeneity Score: 0.29711793509848905\n",
            "Completeness Score: 1.0000000000000002\n",
            "V-measure: 0.45812015555228464\n",
            "Silhouette Score: 0.030315323658913512\n",
            "Adjusted Rand Index: 0.0\n"
          ]
        }
      ],
      "source": [
        "from sklearn.metrics import homogeneity_score, completeness_score, silhouette_score, adjusted_rand_score, v_measure_score\n",
        "\n",
        "# Assuming you have true labels for your data\n",
        "true_labels = ranks\n",
        "\n",
        "# Calculate homogeneity score\n",
        "homogeneity = homogeneity_score(true_labels, km.labels_)\n",
        "print(\"Homogeneity Score:\", homogeneity)\n",
        "\n",
        "# Calculate completeness score\n",
        "completeness = completeness_score(true_labels, km.labels_[:300])\n",
        "print(\"Completeness Score:\", completeness)\n",
        "\n",
        "# Calculate completeness score\n",
        "Vmeasure = v_measure_score(true_labels, km.labels_[:300])\n",
        "print(\"V-measure:\", Vmeasure)\n",
        "\n",
        "silhouette_avg = silhouette_score(tfidf_matrix, clusters)\n",
        "print(\"Silhouette Score:\", silhouette_avg)\n",
        "\n",
        "# Calculate Adjusted Rand Index\n",
        "ari = adjusted_rand_score(true_labels, km.labels_[:300])\n",
        "print(\"Adjusted Rand Index:\", ari)\n"
      ]
    },
    {
      "cell_type": "code",
      "execution_count": null,
      "metadata": {
        "colab": {
          "base_uri": "https://localhost:8080/",
          "height": 452
        },
        "id": "xJ3Zi1AHDDdz",
        "outputId": "9c391d8c-004c-4aa5-92e2-4ecfd88fccd6"
      },
      "outputs": [
        {
          "data": {
            "image/png": "[encoded data removed]",
            "text/plain": [
              "<Figure size 640x480 with 1 Axes>"
            ]
          },
          "metadata": {},
          "output_type": "display_data"
        }
      ],
      "source": [
        "import matplotlib.pyplot as plt\n",
        "from sklearn.decomposition import PCA\n",
        "\n",
        "# Reduce dimensionality to 2D for visualization\n",
        "pca = PCA(n_components=2)\n",
        "reduced_features = pca.fit_transform(tfidf_matrix.toarray())\n",
        "\n",
        "plt.scatter(reduced_features[:, 0], reduced_features[:, 1], c=clusters, cmap='viridis')\n",
        "plt.title('Clusters Visualization')\n",
        "plt.show()"
      ]
    },
    {
      "cell_type": "markdown",
      "metadata": {
        "id": "7CDr8hrZDvtg"
      },
      "source": [
        "# CLARANS (Clustering Large Applications based on RANdomized Search)\n",
        "\n",
        "is a clustering algorithm that is suitable for large datasets. Unlike KMeans, CLARANS uses a sampling technique to find clusters in the dataset. The main advantage of CLARANS is that it is less sensitive to the initialization of centroids, making it more robust in certain scenarios."
      ]
    },
    {
      "cell_type": "code",
      "execution_count": null,
      "metadata": {
        "id": "NgnLrwqCDpck"
      },
      "outputs": [],
      "source": [
        "from pyclustering.cluster import cluster_visualizer, clarans\n",
        "from pyclustering.cluster.clarans import clarans as clarans_instance\n",
        "\n",
        "# Number of clusters\n",
        "num_clusters = 6\n",
        "\n",
        "# Set the number of local minima of cost function to discover\n",
        "num_local_minima = 2\n",
        "\n",
        "# Set the maximum number of neighbors\n",
        "max_neighbors = 3\n",
        "\n",
        "# Create CLARANS instance\n",
        "clarans_instance = clarans_instance(tfidf_matrix.toarray(), num_clusters, num_local_minima, max_neighbors)\n",
        "\n",
        "# Run CLARANS algorithm\n",
        "clarans_instance.process()\n",
        "\n",
        "# Get clustering results\n",
        "clusters = clarans_instance.get_clusters()\n",
        "medoids = clarans_instance.get_medoids()\n",
        "\n",
        "# Flatten the clusters for each document\n",
        "flat_clusters = [-1] * len(complaints)\n",
        "for cluster_idx, cluster in enumerate(clusters):\n",
        "    for document_idx in cluster:\n",
        "        flat_clusters[document_idx] = cluster_idx\n",
        "\n",
        "# Assuming you have true labels for your data\n",
        "true_labels = ranks"
      ]
    },
    {
      "cell_type": "code",
      "execution_count": null,
      "metadata": {
        "colab": {
          "base_uri": "https://localhost:8080/"
        },
        "id": "fCqNkdniHuOA",
        "outputId": "6265a1bd-c0d5-48d3-b5c9-ce36e10e9dc5"
      },
      "outputs": [
        {
          "name": "stdout",
          "output_type": "stream",
          "text": [
            "Homogeneity Score: 0.24347891482489334\n",
            "Completeness Score: 1.0000000000000002\n",
            "V-measure: 0.3916092374741715\n",
            "Silhouette Score: 0.007271021219800563\n",
            "Adjusted Rand Index: 0.0\n"
          ]
        }
      ],
      "source": [
        "from sklearn.metrics import homogeneity_score, completeness_score, v_measure_score, adjusted_rand_score\n",
        "\n",
        "# Assuming you have true labels for your data\n",
        "true_labels = ranks\n",
        "\n",
        "# Calculate Homogeneity\n",
        "homogeneity = homogeneity_score(true_labels, flat_clusters)\n",
        "print(\"Homogeneity Score:\", homogeneity)\n",
        "\n",
        "# Calculate Completeness\n",
        "completeness = completeness_score(true_labels, flat_clusters)\n",
        "print(\"Completeness Score:\", completeness)\n",
        "\n",
        "# Calculate V-measure\n",
        "vmeasure = v_measure_score(true_labels, flat_clusters)\n",
        "print(\"V-measure:\", vmeasure)\n",
        "\n",
        "silhouette_avg = silhouette_score(tfidf_matrix, flat_clusters)\n",
        "print(\"Silhouette Score:\", silhouette_avg)\n",
        "\n",
        "# Calculate Adjusted Rand Index\n",
        "ari = adjusted_rand_score(true_labels, flat_clusters)\n",
        "print(\"Adjusted Rand Index:\", ari)\n"
      ]
    },
    {
      "cell_type": "code",
      "execution_count": null,
      "metadata": {
        "colab": {
          "base_uri": "https://localhost:8080/",
          "height": 452
        },
        "id": "3XJikJC4EXbt",
        "outputId": "d7a1df23-7d7e-4cc1-85b8-d8a9fe2aad31"
      },
      "outputs": [
        {
          "data": {
            "image/png": "[encoded data removed]",
            "text/plain": [
              "<Figure size 640x480 with 1 Axes>"
            ]
          },
          "metadata": {},
          "output_type": "display_data"
        }
      ],
      "source": [
        "import matplotlib.pyplot as plt\n",
        "from sklearn.decomposition import PCA\n",
        "\n",
        "# Flatten the list of lists into a single list\n",
        "flat_clusters = [item for sublist in clusters for item in sublist]\n",
        "\n",
        "# Scatter plot with flattened clusters\n",
        "plt.scatter(reduced_features[:, 0], reduced_features[:, 1], c=flat_clusters, cmap='viridis')\n",
        "plt.title('Clusters Visualization')\n",
        "plt.show()"
      ]
    },
    {
      "cell_type": "code",
      "execution_count": null,
      "metadata": {
        "colab": {
          "base_uri": "https://localhost:8080/",
          "height": 206
        },
        "id": "N53trRXDPu2D",
        "outputId": "eb451ef1-bcfe-447a-9700-a75a03a914c5"
      },
      "outputs": [
        {
          "data": {
            "text/html": [
              "\n",
              "  <div id=\"df-01e06863-2ed4-411a-89cc-fb69460fd0ae\" class=\"colab-df-container\">\n",
              "    <div>\n",
              "<style scoped>\n",
              "    .dataframe tbody tr th:only-of-type {\n",
              "        vertical-align: middle;\n",
              "    }\n",
              "\n",
              "    .dataframe tbody tr th {\n",
              "        vertical-align: top;\n",
              "    }\n",
              "\n",
              "    .dataframe thead th {\n",
              "        text-align: right;\n",
              "    }\n",
              "</style>\n",
              "<table border=\"1\" class=\"dataframe\">\n",
              "  <thead>\n",
              "    <tr style=\"text-align: right;\">\n",
              "      <th></th>\n",
              "      <th></th>\n",
              "      <th>K-Means</th>\n",
              "      <th>CLARANS</th>\n",
              "    </tr>\n",
              "  </thead>\n",
              "  <tbody>\n",
              "    <tr>\n",
              "      <th>0</th>\n",
              "      <td>Homogeneity</td>\n",
              "      <td>0.30</td>\n",
              "      <td>0.210</td>\n",
              "    </tr>\n",
              "    <tr>\n",
              "      <th>1</th>\n",
              "      <td>Completeness</td>\n",
              "      <td>1.00</td>\n",
              "      <td>1.000</td>\n",
              "    </tr>\n",
              "    <tr>\n",
              "      <th>2</th>\n",
              "      <td>V-measure</td>\n",
              "      <td>0.46</td>\n",
              "      <td>0.350</td>\n",
              "    </tr>\n",
              "    <tr>\n",
              "      <th>3</th>\n",
              "      <td>Silhouette</td>\n",
              "      <td>0.03</td>\n",
              "      <td>0.011</td>\n",
              "    </tr>\n",
              "    <tr>\n",
              "      <th>4</th>\n",
              "      <td>Adjusted-Rand-Index</td>\n",
              "      <td>0.00</td>\n",
              "      <td>0.000</td>\n",
              "    </tr>\n",
              "  </tbody>\n",
              "</table>\n",
              "</div>\n",
              "    <div class=\"colab-df-buttons\">\n",
              "\n",
              "  <div class=\"colab-df-container\">\n",
              "    <button class=\"colab-df-convert\" onclick=\"convertToInteractive('df-01e06863-2ed4-411a-89cc-fb69460fd0ae')\"\n",
              "            title=\"Convert this dataframe to an interactive table.\"\n",
              "            style=\"display:none;\">\n",
              "\n",
              "  <svg xmlns=\"http://www.w3.org/2000/svg\" height=\"24px\" viewBox=\"0 -960 960 960\">\n",
              "    <path d=\"M120-120v-720h720v720H120Zm60-500h600v-160H180v160Zm220 220h160v-160H400v160Zm0 220h160v-160H400v160ZM180-400h160v-160H180v160Zm440 0h160v-160H620v160ZM180-180h160v-160H180v160Zm440 0h160v-160H620v160Z\"/>\n",
              "  </svg>\n",
              "    </button>\n",
              "\n",
              "  <style>\n",
              "    .colab-df-container {\n",
              "      display:flex;\n",
              "      gap: 12px;\n",
              "    }\n",
              "\n",
              "    .colab-df-convert {\n",
              "      background-color: #E8F0FE;\n",
              "      border: none;\n",
              "      border-radius: 50%;\n",
              "      cursor: pointer;\n",
              "      display: none;\n",
              "      fill: #1967D2;\n",
              "      height: 32px;\n",
              "      padding: 0 0 0 0;\n",
              "      width: 32px;\n",
              "    }\n",
              "\n",
              "    .colab-df-convert:hover {\n",
              "      background-color: #E2EBFA;\n",
              "      box-shadow: 0px 1px 2px rgba(60, 64, 67, 0.3), 0px 1px 3px 1px rgba(60, 64, 67, 0.15);\n",
              "      fill: #174EA6;\n",
              "    }\n",
              "\n",
              "    .colab-df-buttons div {\n",
              "      margin-bottom: 4px;\n",
              "    }\n",
              "\n",
              "    [theme=dark] .colab-df-convert {\n",
              "      background-color: #3B4455;\n",
              "      fill: #D2E3FC;\n",
              "    }\n",
              "\n",
              "    [theme=dark] .colab-df-convert:hover {\n",
              "      background-color: #434B5C;\n",
              "      box-shadow: 0px 1px 3px 1px rgba(0, 0, 0, 0.15);\n",
              "      filter: drop-shadow(0px 1px 2px rgba(0, 0, 0, 0.3));\n",
              "      fill: #FFFFFF;\n",
              "    }\n",
              "  </style>\n",
              "\n",
              "    <script>\n",
              "      const buttonEl =\n",
              "        document.querySelector('#df-01e06863-2ed4-411a-89cc-fb69460fd0ae button.colab-df-convert');\n",
              "      buttonEl.style.display =\n",
              "        google.colab.kernel.accessAllowed ? 'block' : 'none';\n",
              "\n",
              "      async function convertToInteractive(key) {\n",
              "        const element = document.querySelector('#df-01e06863-2ed4-411a-89cc-fb69460fd0ae');\n",
              "        const dataTable =\n",
              "          await google.colab.kernel.invokeFunction('convertToInteractive',\n",
              "                                                    [key], {});\n",
              "        if (!dataTable) return;\n",
              "\n",
              "        const docLinkHtml = 'Like what you see? Visit the ' +\n",
              "          '<a target=\"_blank\" href=https://colab.research.google.com/notebooks/data_table.ipynb>data table notebook</a>'\n",
              "          + ' to learn more about interactive tables.';\n",
              "        element.innerHTML = '';\n",
              "        dataTable['output_type'] = 'display_data';\n",
              "        await google.colab.output.renderOutput(dataTable, element);\n",
              "        const docLink = document.createElement('div');\n",
              "        docLink.innerHTML = docLinkHtml;\n",
              "        element.appendChild(docLink);\n",
              "      }\n",
              "    </script>\n",
              "  </div>\n",
              "\n",
              "\n",
              "<div id=\"df-4221107a-5463-4ee5-8b8b-8d53a69e20aa\">\n",
              "  <button class=\"colab-df-quickchart\" onclick=\"quickchart('df-4221107a-5463-4ee5-8b8b-8d53a69e20aa')\"\n",
              "            title=\"Suggest charts\"\n",
              "            style=\"display:none;\">\n",
              "\n",
              "<svg xmlns=\"http://www.w3.org/2000/svg\" height=\"24px\"viewBox=\"0 0 24 24\"\n",
              "     width=\"24px\">\n",
              "    <g>\n",
              "        <path d=\"M19 3H5c-1.1 0-2 .9-2 2v14c0 1.1.9 2 2 2h14c1.1 0 2-.9 2-2V5c0-1.1-.9-2-2-2zM9 17H7v-7h2v7zm4 0h-2V7h2v10zm4 0h-2v-4h2v4z\"/>\n",
              "    </g>\n",
              "</svg>\n",
              "  </button>\n",
              "\n",
              "<style>\n",
              "  .colab-df-quickchart {\n",
              "      --bg-color: #E8F0FE;\n",
              "      --fill-color: #1967D2;\n",
              "      --hover-bg-color: #E2EBFA;\n",
              "      --hover-fill-color: #174EA6;\n",
              "      --disabled-fill-color: #AAA;\n",
              "      --disabled-bg-color: #DDD;\n",
              "  }\n",
              "\n",
              "  [theme=dark] .colab-df-quickchart {\n",
              "      --bg-color: #3B4455;\n",
              "      --fill-color: #D2E3FC;\n",
              "      --hover-bg-color: #434B5C;\n",
              "      --hover-fill-color: #FFFFFF;\n",
              "      --disabled-bg-color: #3B4455;\n",
              "      --disabled-fill-color: #666;\n",
              "  }\n",
              "\n",
              "  .colab-df-quickchart {\n",
              "    background-color: var(--bg-color);\n",
              "    border: none;\n",
              "    border-radius: 50%;\n",
              "    cursor: pointer;\n",
              "    display: none;\n",
              "    fill: var(--fill-color);\n",
              "    height: 32px;\n",
              "    padding: 0;\n",
              "    width: 32px;\n",
              "  }\n",
              "\n",
              "  .colab-df-quickchart:hover {\n",
              "    background-color: var(--hover-bg-color);\n",
              "    box-shadow: 0 1px 2px rgba(60, 64, 67, 0.3), 0 1px 3px 1px rgba(60, 64, 67, 0.15);\n",
              "    fill: var(--button-hover-fill-color);\n",
              "  }\n",
              "\n",
              "  .colab-df-quickchart-complete:disabled,\n",
              "  .colab-df-quickchart-complete:disabled:hover {\n",
              "    background-color: var(--disabled-bg-color);\n",
              "    fill: var(--disabled-fill-color);\n",
              "    box-shadow: none;\n",
              "  }\n",
              "\n",
              "  .colab-df-spinner {\n",
              "    border: 2px solid var(--fill-color);\n",
              "    border-color: transparent;\n",
              "    border-bottom-color: var(--fill-color);\n",
              "    animation:\n",
              "      spin 1s steps(1) infinite;\n",
              "  }\n",
              "\n",
              "  @keyframes spin {\n",
              "    0% {\n",
              "      border-color: transparent;\n",
              "      border-bottom-color: var(--fill-color);\n",
              "      border-left-color: var(--fill-color);\n",
              "    }\n",
              "    20% {\n",
              "      border-color: transparent;\n",
              "      border-left-color: var(--fill-color);\n",
              "      border-top-color: var(--fill-color);\n",
              "    }\n",
              "    30% {\n",
              "      border-color: transparent;\n",
              "      border-left-color: var(--fill-color);\n",
              "      border-top-color: var(--fill-color);\n",
              "      border-right-color: var(--fill-color);\n",
              "    }\n",
              "    40% {\n",
              "      border-color: transparent;\n",
              "      border-right-color: var(--fill-color);\n",
              "      border-top-color: var(--fill-color);\n",
              "    }\n",
              "    60% {\n",
              "      border-color: transparent;\n",
              "      border-right-color: var(--fill-color);\n",
              "    }\n",
              "    80% {\n",
              "      border-color: transparent;\n",
              "      border-right-color: var(--fill-color);\n",
              "      border-bottom-color: var(--fill-color);\n",
              "    }\n",
              "    90% {\n",
              "      border-color: transparent;\n",
              "      border-bottom-color: var(--fill-color);\n",
              "    }\n",
              "  }\n",
              "</style>\n",
              "\n",
              "  <script>\n",
              "    async function quickchart(key) {\n",
              "      const quickchartButtonEl =\n",
              "        document.querySelector('#' + key + ' button');\n",
              "      quickchartButtonEl.disabled = true;  // To prevent multiple clicks.\n",
              "      quickchartButtonEl.classList.add('colab-df-spinner');\n",
              "      try {\n",
              "        const charts = await google.colab.kernel.invokeFunction(\n",
              "            'suggestCharts', [key], {});\n",
              "      } catch (error) {\n",
              "        console.error('Error during call to suggestCharts:', error);\n",
              "      }\n",
              "      quickchartButtonEl.classList.remove('colab-df-spinner');\n",
              "      quickchartButtonEl.classList.add('colab-df-quickchart-complete');\n",
              "    }\n",
              "    (() => {\n",
              "      let quickchartButtonEl =\n",
              "        document.querySelector('#df-4221107a-5463-4ee5-8b8b-8d53a69e20aa button');\n",
              "      quickchartButtonEl.style.display =\n",
              "        google.colab.kernel.accessAllowed ? 'block' : 'none';\n",
              "    })();\n",
              "  </script>\n",
              "</div>\n",
              "    </div>\n",
              "  </div>\n"
            ],
            "text/plain": [
              "                        K-Means  CLARANS\n",
              "0         Homogeneity      0.30    0.210\n",
              "1        Completeness      1.00    1.000\n",
              "2            V-measure     0.46    0.350\n",
              "3           Silhouette     0.03    0.011\n",
              "4  Adjusted-Rand-Index     0.00    0.000"
            ]
          },
          "execution_count": 23,
          "metadata": {},
          "output_type": "execute_result"
        }
      ],
      "source": [
        "import pandas as pd\n",
        "\n",
        "# Données du tableau\n",
        "data = {\n",
        "    '': ['Homogeneity ', 'Completeness ', 'V-measure', 'Silhouette', 'Adjusted-Rand-Index'],\n",
        "    'K-Means': [0.30, 1.00, 0.46, 0.03, 0.0],\n",
        "    'CLARANS': [0.21, 1.0, 0.35, 0.011, 0.0]\n",
        "}\n",
        "\n",
        "# Création d'un DataFrame à partir des données\n",
        "df = pd.DataFrame(data)\n",
        "\n",
        "# Affichage du DataFrame\n",
        "df\n"
      ]
    },
    {
      "cell_type": "code",
      "execution_count": null,
      "metadata": {
        "colab": {
          "base_uri": "https://localhost:8080/",
          "height": 452
        },
        "id": "BRvfT2tfQJrs",
        "outputId": "e4c7fd2d-f3bc-42ec-b76a-97e3b9e2eac7"
      },
      "outputs": [
        {
          "data": {
            "image/png": "[encoded data removed]",
            "text/plain": [
              "<Figure size 640x480 with 1 Axes>"
            ]
          },
          "metadata": {},
          "output_type": "display_data"
        }
      ],
      "source": [
        "import matplotlib.pyplot as plt\n",
        "import numpy as np\n",
        "\n",
        "# Données\n",
        "labels = ['Homogeneity', 'Completeness', 'V-measure', 'Silhouette', 'Adjusted-Rand-Index']\n",
        "kMeans_values = [0.30, 1.00, 0.46, 0.03, 0.00]\n",
        "Clarans_values = [0.21, 1.00, 0.35, 0.011, 0.00]\n",
        "\n",
        "# Position des barres sur l'axe des x\n",
        "x = np.arange(len(labels))\n",
        "\n",
        "# Largeur des barres\n",
        "width = 0.35\n",
        "\n",
        "# Créer le graphique à barres\n",
        "fig, ax = plt.subplots()\n",
        "bar1 = ax.bar(x - width/2, kMeans_values, width, label='K-Means')\n",
        "bar2 = ax.bar(x + width/2, Clarans_values, width, label='Clarans')\n",
        "\n",
        "# Ajouter des étiquettes, un titre, une légende, etc.\n",
        "ax.set_ylabel('Valeurs')\n",
        "ax.set_title('Comparaison entre K-Means et Clarans')\n",
        "ax.set_xticks(x)\n",
        "ax.set_xticklabels(labels)\n",
        "ax.legend()\n",
        "\n",
        "# Afficher le graphique\n",
        "plt.show()\n"
      ]
    },
    {
      "cell_type": "markdown",
      "metadata": {
        "id": "6MD00Ru2M0jZ"
      },
      "source": [
        "Homogeneity: elle mesure à quel point les membres d'un même cluster partagent la même étiquette de classe. ou 1=> le cas parfaite\n"
      ]
    },
    {
      "cell_type": "markdown",
      "metadata": {
        "id": "FU2UK5yZNY87"
      },
      "source": [
        "Completeness: évaluer à quel point tous les points appartenant à une même classe particulière sont regroupés dans le même cluster ou 1=> parfaite"
      ]
    },
    {
      "cell_type": "markdown",
      "metadata": {
        "id": "HjnJ_ynbNerL"
      },
      "source": [
        "V-measure: combine à la fois l'homogénéité et la complétude ou 1=> parfaite"
      ]
    },
    {
      "cell_type": "markdown",
      "metadata": {
        "id": "r_l4xR9GN-ju"
      },
      "source": [
        "Silhouette: à quel point chaque point d'un cluster est similaire aux points du même cluster par rapport à d'autres clusters.\n",
        "    Une valeur proche de 1 indique que le point est bien ajusté à son propre cluster et mal ajusté aux clusters voisins.\n",
        "    Une valeur proche de -1 indique qu'un point est mal ajusté à son propre cluster et bien ajusté aux clusters voisins.\n",
        "    Une valeur proche de 0 indique un chevauchement significatif des clusters."
      ]
    },
    {
      "cell_type": "markdown",
      "metadata": {
        "id": "ZajE2XTAOQ3S"
      },
      "source": []
    },
    {
      "cell_type": "markdown",
      "metadata": {
        "id": "Psg88foXOWil"
      },
      "source": [
        "Adjusted-Rand-Index:  d'évaluation de la similarité entre deux partitions (groupements)\n",
        "    1 signifie une correspondance parfaite entre les partitions.\n",
        "    0 signifie que les partitions sont équivalentes au hasard.\n",
        "    -1 signifie une discordance totale entre les partitions."
      ]
    }
  ],
  "metadata": {
    "colab": {
      "provenance": []
    },
    "kernelspec": {
      "display_name": "Python 3",
      "name": "python3"
    },
    "language_info": {
      "name": "python"
    }
  },
  "nbformat": 4,
  "nbformat_minor": 0
}
