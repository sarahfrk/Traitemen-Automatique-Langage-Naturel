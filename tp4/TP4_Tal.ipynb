{
  "cells": [
    {
      "cell_type": "markdown",
      "metadata": {},
      "source": [
        "## TP4: Dependency Parsing"
      ]
    },
    {
      "cell_type": "code",
      "execution_count": 1,
      "metadata": {
        "id": "o8K7hj4Dk6IN"
      },
      "outputs": [],
      "source": [
        "import spacy\n",
        "from spacy.tokens import Doc\n",
        "from spacy.training.example import Example"
      ]
    },
    {
      "cell_type": "code",
      "execution_count": 2,
      "metadata": {
        "id": "QOjC4fT9lC-e"
      },
      "outputs": [],
      "source": [
        "# 1: Data\n",
        "training_data = [\n",
        "    (\"There are few securities .\", {\"heads\": [2, 1, 3, 3, 1], \"deps\": [\"expl\", \"ROOT\",\"Quantity\", \"dobj\",\"punct\"]}),\n",
        "    (\"They have many stocks .\", {\"heads\": [1, 2, 4, 2, 4], \"deps\": [\"nsubj\", \"ROOT\",\"Quantity\", \"dobj\",\"punct\"]}),\n",
        "    (\"Giv me somme apples .\", {\"heads\": [1, 2, 4, 2, 4], \"deps\": [\"nsubj\", \"ROOT\", \"Quantity\", \"dobj\",\"punct\"]}),\n",
        "    (\"they read all this .\", {\"heads\": [2, 1, 3, 3, 1], \"deps\": [\"nsubj\", \"ROOT\", \"Quantity\", \"dobj\",\"punct\"]}),\n",
        "    (\"Open the half box .\", {\"heads\": [1, 2, 4, 2, 4], \"deps\": [\"nsubj\", \"ROOT\", \"Quantity\", \"dobj\",\"punct\"]}),\n",
        "    (\"they have numerous caracters .\", {\"heads\": [1, 2, 4, 2, 4], \"deps\": [\"nsubj\", \"ROOT\", \"Quantity\", \"dobj\",\"punct\"]}),\n",
        "    (\"I bay enough vegetables .\", {\"heads\": [1, 2, 4, 2, 4], \"deps\": [\"nsubj\", \"ROOT\", \"Quantity\", \"dobj\",\"punct\"]}),\n",
        "    (\"I ate whole of them .\", {\"heads\": [1, 2, 4, 2, 4, 3], \"deps\": [\"nsubj\", \"ROOT\", \"Quantity\", \"dobj\",\"punct\", \"dobj\"]})\n",
        "    ]"
      ]
    },
    {
      "cell_type": "code",
      "execution_count": 3,
      "metadata": {
        "id": "LK5_3IMGlFRv"
      },
      "outputs": [],
      "source": [
        "# Load a pre-trained English model\n",
        "nlp = spacy.load(\"en_core_web_sm\")"
      ]
    },
    {
      "cell_type": "code",
      "execution_count": 4,
      "metadata": {
        "colab": {
          "base_uri": "https://localhost:8080/"
        },
        "id": "poTXNRaElHu8",
        "outputId": "87fa735c-fd45-4fe7-f5ae-0451f1322109"
      },
      "outputs": [
        {
          "data": {
            "text/plain": [
              "1"
            ]
          },
          "execution_count": 4,
          "metadata": {},
          "output_type": "execute_result"
        }
      ],
      "source": [
        "# 2:\n",
        "# Add a custom label for quantity adjectives to the existing parser\n",
        "dep = nlp.get_pipe(\"parser\")\n",
        "dep.add_label(\"Quantity\")"
      ]
    },
    {
      "cell_type": "code",
      "execution_count": 5,
      "metadata": {
        "id": "pPIeoC8MlLaR"
      },
      "outputs": [],
      "source": [
        "# 3:\n",
        "# Train the parser on the training dataset\n",
        "n_iter = 50\n",
        "for j in range(n_iter):\n",
        "    for text, annotations in training_data:\n",
        "        words = text.split()\n",
        "        heads = annotations[\"heads\"]\n",
        "        deps = annotations[\"deps\"]\n",
        "\n",
        "        # Ensure that the lengths match\n",
        "        if len(words) == len(heads) == len(deps):\n",
        "            doc = Doc(nlp.vocab, words=words)\n",
        "            for i in range(len(words)):\n",
        "                token = doc[i]\n",
        "                token.dep_ = deps[i]  # maj\n",
        "                if heads[i] != 0:\n",
        "                    token.head = doc[heads[i]]\n",
        "\n",
        "            example = Example.from_dict(doc, annotations)\n",
        "            nlp.update([example], drop=0.5, losses={})\n",
        "        else:\n",
        "            print(f\"Error in data: Length mismatch in sentence '{text}'.\")\n"
      ]
    },
    {
      "cell_type": "code",
      "execution_count": 6,
      "metadata": {
        "colab": {
          "base_uri": "https://localhost:8080/"
        },
        "id": "COJSFe9JlQgL",
        "outputId": "c5f22e43-6f3d-468b-b12b-71e6289afea2"
      },
      "outputs": [
        {
          "name": "stdout",
          "output_type": "stream",
          "text": [
            "Fin de creation de parser...\n"
          ]
        }
      ],
      "source": [
        "# Save the trained parser\n",
        "nlp.to_disk(\"quantity_parser\")\n",
        "print(\"Fin de creation de parser...\")"
      ]
    },
    {
      "cell_type": "code",
      "execution_count": 8,
      "metadata": {
        "colab": {
          "base_uri": "https://localhost:8080/"
        },
        "id": "0E_D8_h2l_tx",
        "outputId": "596ab690-1b32-434d-92d8-822b0a72e280"
      },
      "outputs": [
        {
          "name": "stdout",
          "output_type": "stream",
          "text": [
            "/content\n"
          ]
        }
      ],
      "source": [
        "import os\n",
        "print(os.getcwd())\n"
      ]
    },
    {
      "cell_type": "code",
      "execution_count": 12,
      "metadata": {
        "id": "sJEVyPCalTxY"
      },
      "outputs": [],
      "source": [
        "quantity_parser = spacy.load(\"/content/quantity_parser\")\n",
        "\n",
        "# Test data\n",
        "test_data = [\n",
        "    \"They have many problems .\",\n",
        "    \"Open the half box .\",\n",
        "    \"I like all of you .\"\n",
        "]"
      ]
    },
    {
      "cell_type": "code",
      "execution_count": 13,
      "metadata": {
        "colab": {
          "base_uri": "https://localhost:8080/"
        },
        "id": "MNm-4Q4HlWoM",
        "outputId": "76b01ce8-498c-4d37-9fdd-8ed43e92abe1"
      },
      "outputs": [
        {
          "name": "stdout",
          "output_type": "stream",
          "text": [
            "Text: They have many problems .\n",
            "Dependencies: [('They', 'nsubj'), ('have', 'dep'), ('many', 'Quantity'), ('problems', 'dobj'), ('.', 'ROOT')]\n",
            "\n",
            "Text: Open the half box .\n",
            "Dependencies: [('Open', 'nsubj'), ('the', 'dep'), ('half', 'Quantity'), ('box', 'dobj'), ('.', 'ROOT')]\n",
            "\n",
            "Text: I like all of you .\n",
            "Dependencies: [('I', 'ROOT'), ('like', 'ROOT'), ('all', 'Quantity'), ('of', 'dobj'), ('you', 'ROOT'), ('.', 'dep')]\n",
            "\n"
          ]
        }
      ],
      "source": [
        "\n",
        "# Process the test data using the loaded parser\n",
        "for text in test_data:\n",
        "    doc = quantity_parser(text)\n",
        "\n",
        "    # Extract and print dependency information\n",
        "    print(\"Text:\", text)\n",
        "    print(\"Dependencies:\", [(token.text, token.dep_) for token in doc])\n",
        "    print()"
      ]
    },
    {
      "cell_type": "code",
      "execution_count": 15,
      "metadata": {
        "colab": {
          "base_uri": "https://localhost:8080/",
          "height": 778
        },
        "id": "Q7hwvMBPmQ0K",
        "outputId": "58175d75-e22c-4412-d741-30e679deeb00"
      },
      "outputs": [
        {
          "name": "stdout",
          "output_type": "stream",
          "text": [
            "Text: They have many problems .\n",
            "Dependencies: [('They', 'nsubj'), ('have', 'dep'), ('many', 'Quantity'), ('problems', 'dobj'), ('.', 'ROOT')]\n"
          ]
        },
        {
          "data": {
            "text/html": [
              "<span class=\"tex2jax_ignore\"><svg xmlns=\"http://www.w3.org/2000/svg\" xmlns:xlink=\"http://www.w3.org/1999/xlink\" xml:lang=\"en\" id=\"27ec7d506a914a878b194fb1256024b1-0\" class=\"displacy\" width=\"410\" height=\"182.0\" direction=\"ltr\" style=\"max-width: none; height: 182.0px; color: #ffffff; background: #000000; font-family: Arial; direction: ltr\">\n",
              "<text class=\"displacy-token\" fill=\"currentColor\" text-anchor=\"middle\" y=\"92.0\">\n",
              "    <tspan class=\"displacy-word\" fill=\"currentColor\" x=\"50\">They</tspan>\n",
              "    <tspan class=\"displacy-tag\" dy=\"2em\" fill=\"currentColor\" x=\"50\">PRON</tspan>\n",
              "</text>\n",
              "\n",
              "<text class=\"displacy-token\" fill=\"currentColor\" text-anchor=\"middle\" y=\"92.0\">\n",
              "    <tspan class=\"displacy-word\" fill=\"currentColor\" x=\"140\">have</tspan>\n",
              "    <tspan class=\"displacy-tag\" dy=\"2em\" fill=\"currentColor\" x=\"140\">AUX</tspan>\n",
              "</text>\n",
              "\n",
              "<text class=\"displacy-token\" fill=\"currentColor\" text-anchor=\"middle\" y=\"92.0\">\n",
              "    <tspan class=\"displacy-word\" fill=\"currentColor\" x=\"230\">many</tspan>\n",
              "    <tspan class=\"displacy-tag\" dy=\"2em\" fill=\"currentColor\" x=\"230\">ADJ</tspan>\n",
              "</text>\n",
              "\n",
              "<text class=\"displacy-token\" fill=\"currentColor\" text-anchor=\"middle\" y=\"92.0\">\n",
              "    <tspan class=\"displacy-word\" fill=\"currentColor\" x=\"320\">problems .</tspan>\n",
              "    <tspan class=\"displacy-tag\" dy=\"2em\" fill=\"currentColor\" x=\"320\">PUNCT</tspan>\n",
              "</text>\n",
              "\n",
              "<g class=\"displacy-arrow\">\n",
              "    <path class=\"displacy-arc\" id=\"arrow-27ec7d506a914a878b194fb1256024b1-0-0\" stroke-width=\"2px\" d=\"M70,47.0 C70,2.0 140.0,2.0 140.0,47.0\" fill=\"none\" stroke=\"currentColor\"/>\n",
              "    <text dy=\"1.25em\" style=\"font-size: 0.8em; letter-spacing: 1px\">\n",
              "        <textPath xlink:href=\"#arrow-27ec7d506a914a878b194fb1256024b1-0-0\" class=\"displacy-label\" startOffset=\"50%\" side=\"left\" fill=\"currentColor\" text-anchor=\"middle\">nsubj</textPath>\n",
              "    </text>\n",
              "    <path class=\"displacy-arrowhead\" d=\"M70,49.0 L62,37.0 78,37.0\" fill=\"currentColor\"/>\n",
              "</g>\n",
              "\n",
              "<g class=\"displacy-arrow\">\n",
              "    <path class=\"displacy-arc\" id=\"arrow-27ec7d506a914a878b194fb1256024b1-0-1\" stroke-width=\"2px\" d=\"M160,47.0 C160,2.0 230.0,2.0 230.0,47.0\" fill=\"none\" stroke=\"currentColor\"/>\n",
              "    <text dy=\"1.25em\" style=\"font-size: 0.8em; letter-spacing: 1px\">\n",
              "        <textPath xlink:href=\"#arrow-27ec7d506a914a878b194fb1256024b1-0-1\" class=\"displacy-label\" startOffset=\"50%\" side=\"left\" fill=\"currentColor\" text-anchor=\"middle\">dep</textPath>\n",
              "    </text>\n",
              "    <path class=\"displacy-arrowhead\" d=\"M160,49.0 L152,37.0 168,37.0\" fill=\"currentColor\"/>\n",
              "</g>\n",
              "\n",
              "<g class=\"displacy-arrow\">\n",
              "    <path class=\"displacy-arc\" id=\"arrow-27ec7d506a914a878b194fb1256024b1-0-2\" stroke-width=\"2px\" d=\"M250,47.0 C250,2.0 320.0,2.0 320.0,47.0\" fill=\"none\" stroke=\"currentColor\"/>\n",
              "    <text dy=\"1.25em\" style=\"font-size: 0.8em; letter-spacing: 1px\">\n",
              "        <textPath xlink:href=\"#arrow-27ec7d506a914a878b194fb1256024b1-0-2\" class=\"displacy-label\" startOffset=\"50%\" side=\"left\" fill=\"currentColor\" text-anchor=\"middle\">Quantity</textPath>\n",
              "    </text>\n",
              "    <path class=\"displacy-arrowhead\" d=\"M250,49.0 L242,37.0 258,37.0\" fill=\"currentColor\"/>\n",
              "</g>\n",
              "</svg></span>"
            ],
            "text/plain": [
              "<IPython.core.display.HTML object>"
            ]
          },
          "metadata": {},
          "output_type": "display_data"
        },
        {
          "name": "stdout",
          "output_type": "stream",
          "text": [
            "\n",
            "Text: Open the half box .\n",
            "Dependencies: [('Open', 'nsubj'), ('the', 'dep'), ('half', 'Quantity'), ('box', 'dobj'), ('.', 'ROOT')]\n"
          ]
        },
        {
          "data": {
            "text/html": [
              "<span class=\"tex2jax_ignore\"><svg xmlns=\"http://www.w3.org/2000/svg\" xmlns:xlink=\"http://www.w3.org/1999/xlink\" xml:lang=\"en\" id=\"aaf3578e0b2140469eb6d3ca8485feb8-0\" class=\"displacy\" width=\"410\" height=\"182.0\" direction=\"ltr\" style=\"max-width: none; height: 182.0px; color: #ffffff; background: #000000; font-family: Arial; direction: ltr\">\n",
              "<text class=\"displacy-token\" fill=\"currentColor\" text-anchor=\"middle\" y=\"92.0\">\n",
              "    <tspan class=\"displacy-word\" fill=\"currentColor\" x=\"50\">Open</tspan>\n",
              "    <tspan class=\"displacy-tag\" dy=\"2em\" fill=\"currentColor\" x=\"50\">PROPN</tspan>\n",
              "</text>\n",
              "\n",
              "<text class=\"displacy-token\" fill=\"currentColor\" text-anchor=\"middle\" y=\"92.0\">\n",
              "    <tspan class=\"displacy-word\" fill=\"currentColor\" x=\"140\">the</tspan>\n",
              "    <tspan class=\"displacy-tag\" dy=\"2em\" fill=\"currentColor\" x=\"140\">PRON</tspan>\n",
              "</text>\n",
              "\n",
              "<text class=\"displacy-token\" fill=\"currentColor\" text-anchor=\"middle\" y=\"92.0\">\n",
              "    <tspan class=\"displacy-word\" fill=\"currentColor\" x=\"230\">half</tspan>\n",
              "    <tspan class=\"displacy-tag\" dy=\"2em\" fill=\"currentColor\" x=\"230\">ADJ</tspan>\n",
              "</text>\n",
              "\n",
              "<text class=\"displacy-token\" fill=\"currentColor\" text-anchor=\"middle\" y=\"92.0\">\n",
              "    <tspan class=\"displacy-word\" fill=\"currentColor\" x=\"320\">box .</tspan>\n",
              "    <tspan class=\"displacy-tag\" dy=\"2em\" fill=\"currentColor\" x=\"320\">PUNCT</tspan>\n",
              "</text>\n",
              "\n",
              "<g class=\"displacy-arrow\">\n",
              "    <path class=\"displacy-arc\" id=\"arrow-aaf3578e0b2140469eb6d3ca8485feb8-0-0\" stroke-width=\"2px\" d=\"M70,47.0 C70,2.0 140.0,2.0 140.0,47.0\" fill=\"none\" stroke=\"currentColor\"/>\n",
              "    <text dy=\"1.25em\" style=\"font-size: 0.8em; letter-spacing: 1px\">\n",
              "        <textPath xlink:href=\"#arrow-aaf3578e0b2140469eb6d3ca8485feb8-0-0\" class=\"displacy-label\" startOffset=\"50%\" side=\"left\" fill=\"currentColor\" text-anchor=\"middle\">nsubj</textPath>\n",
              "    </text>\n",
              "    <path class=\"displacy-arrowhead\" d=\"M70,49.0 L62,37.0 78,37.0\" fill=\"currentColor\"/>\n",
              "</g>\n",
              "\n",
              "<g class=\"displacy-arrow\">\n",
              "    <path class=\"displacy-arc\" id=\"arrow-aaf3578e0b2140469eb6d3ca8485feb8-0-1\" stroke-width=\"2px\" d=\"M160,47.0 C160,2.0 230.0,2.0 230.0,47.0\" fill=\"none\" stroke=\"currentColor\"/>\n",
              "    <text dy=\"1.25em\" style=\"font-size: 0.8em; letter-spacing: 1px\">\n",
              "        <textPath xlink:href=\"#arrow-aaf3578e0b2140469eb6d3ca8485feb8-0-1\" class=\"displacy-label\" startOffset=\"50%\" side=\"left\" fill=\"currentColor\" text-anchor=\"middle\">dep</textPath>\n",
              "    </text>\n",
              "    <path class=\"displacy-arrowhead\" d=\"M160,49.0 L152,37.0 168,37.0\" fill=\"currentColor\"/>\n",
              "</g>\n",
              "\n",
              "<g class=\"displacy-arrow\">\n",
              "    <path class=\"displacy-arc\" id=\"arrow-aaf3578e0b2140469eb6d3ca8485feb8-0-2\" stroke-width=\"2px\" d=\"M250,47.0 C250,2.0 320.0,2.0 320.0,47.0\" fill=\"none\" stroke=\"currentColor\"/>\n",
              "    <text dy=\"1.25em\" style=\"font-size: 0.8em; letter-spacing: 1px\">\n",
              "        <textPath xlink:href=\"#arrow-aaf3578e0b2140469eb6d3ca8485feb8-0-2\" class=\"displacy-label\" startOffset=\"50%\" side=\"left\" fill=\"currentColor\" text-anchor=\"middle\">Quantity</textPath>\n",
              "    </text>\n",
              "    <path class=\"displacy-arrowhead\" d=\"M250,49.0 L242,37.0 258,37.0\" fill=\"currentColor\"/>\n",
              "</g>\n",
              "</svg></span>"
            ],
            "text/plain": [
              "<IPython.core.display.HTML object>"
            ]
          },
          "metadata": {},
          "output_type": "display_data"
        },
        {
          "name": "stdout",
          "output_type": "stream",
          "text": [
            "\n",
            "Text: I like all of you .\n",
            "Dependencies: [('I', 'ROOT'), ('like', 'ROOT'), ('all', 'Quantity'), ('of', 'dobj'), ('you', 'ROOT'), ('.', 'dep')]\n"
          ]
        },
        {
          "data": {
            "text/html": [
              "<span class=\"tex2jax_ignore\"><svg xmlns=\"http://www.w3.org/2000/svg\" xmlns:xlink=\"http://www.w3.org/1999/xlink\" xml:lang=\"en\" id=\"b3abbadb4fbd4f24b1166c9491717b10-0\" class=\"displacy\" width=\"500\" height=\"227.0\" direction=\"ltr\" style=\"max-width: none; height: 227.0px; color: #ffffff; background: #000000; font-family: Arial; direction: ltr\">\n",
              "<text class=\"displacy-token\" fill=\"currentColor\" text-anchor=\"middle\" y=\"137.0\">\n",
              "    <tspan class=\"displacy-word\" fill=\"currentColor\" x=\"50\">I</tspan>\n",
              "    <tspan class=\"displacy-tag\" dy=\"2em\" fill=\"currentColor\" x=\"50\">PRON</tspan>\n",
              "</text>\n",
              "\n",
              "<text class=\"displacy-token\" fill=\"currentColor\" text-anchor=\"middle\" y=\"137.0\">\n",
              "    <tspan class=\"displacy-word\" fill=\"currentColor\" x=\"140\">like</tspan>\n",
              "    <tspan class=\"displacy-tag\" dy=\"2em\" fill=\"currentColor\" x=\"140\">VERB</tspan>\n",
              "</text>\n",
              "\n",
              "<text class=\"displacy-token\" fill=\"currentColor\" text-anchor=\"middle\" y=\"137.0\">\n",
              "    <tspan class=\"displacy-word\" fill=\"currentColor\" x=\"230\">all</tspan>\n",
              "    <tspan class=\"displacy-tag\" dy=\"2em\" fill=\"currentColor\" x=\"230\">PRON</tspan>\n",
              "</text>\n",
              "\n",
              "<text class=\"displacy-token\" fill=\"currentColor\" text-anchor=\"middle\" y=\"137.0\">\n",
              "    <tspan class=\"displacy-word\" fill=\"currentColor\" x=\"320\">of</tspan>\n",
              "    <tspan class=\"displacy-tag\" dy=\"2em\" fill=\"currentColor\" x=\"320\">ADP</tspan>\n",
              "</text>\n",
              "\n",
              "<text class=\"displacy-token\" fill=\"currentColor\" text-anchor=\"middle\" y=\"137.0\">\n",
              "    <tspan class=\"displacy-word\" fill=\"currentColor\" x=\"410\">you .</tspan>\n",
              "    <tspan class=\"displacy-tag\" dy=\"2em\" fill=\"currentColor\" x=\"410\">PRON</tspan>\n",
              "</text>\n",
              "\n",
              "<g class=\"displacy-arrow\">\n",
              "    <path class=\"displacy-arc\" id=\"arrow-b3abbadb4fbd4f24b1166c9491717b10-0-0\" stroke-width=\"2px\" d=\"M250,92.0 C250,2.0 410.0,2.0 410.0,92.0\" fill=\"none\" stroke=\"currentColor\"/>\n",
              "    <text dy=\"1.25em\" style=\"font-size: 0.8em; letter-spacing: 1px\">\n",
              "        <textPath xlink:href=\"#arrow-b3abbadb4fbd4f24b1166c9491717b10-0-0\" class=\"displacy-label\" startOffset=\"50%\" side=\"left\" fill=\"currentColor\" text-anchor=\"middle\">Quantity</textPath>\n",
              "    </text>\n",
              "    <path class=\"displacy-arrowhead\" d=\"M250,94.0 L242,82.0 258,82.0\" fill=\"currentColor\"/>\n",
              "</g>\n",
              "\n",
              "<g class=\"displacy-arrow\">\n",
              "    <path class=\"displacy-arc\" id=\"arrow-b3abbadb4fbd4f24b1166c9491717b10-0-1\" stroke-width=\"2px\" d=\"M250,92.0 C250,47.0 315.0,47.0 315.0,92.0\" fill=\"none\" stroke=\"currentColor\"/>\n",
              "    <text dy=\"1.25em\" style=\"font-size: 0.8em; letter-spacing: 1px\">\n",
              "        <textPath xlink:href=\"#arrow-b3abbadb4fbd4f24b1166c9491717b10-0-1\" class=\"displacy-label\" startOffset=\"50%\" side=\"left\" fill=\"currentColor\" text-anchor=\"middle\">dobj</textPath>\n",
              "    </text>\n",
              "    <path class=\"displacy-arrowhead\" d=\"M315.0,94.0 L323.0,82.0 307.0,82.0\" fill=\"currentColor\"/>\n",
              "</g>\n",
              "</svg></span>"
            ],
            "text/plain": [
              "<IPython.core.display.HTML object>"
            ]
          },
          "metadata": {},
          "output_type": "display_data"
        },
        {
          "name": "stdout",
          "output_type": "stream",
          "text": [
            "\n"
          ]
        }
      ],
      "source": [
        "from spacy import displacy\n",
        "\n",
        "# Process the test data using the loaded parser\n",
        "for text in test_data:\n",
        "    doc = quantity_parser(text)\n",
        "\n",
        "    # Extract and print dependency information\n",
        "    print(\"Text:\", text)\n",
        "    print(\"Dependencies:\", [(token.text, token.dep_) for token in doc])\n",
        "\n",
        "    # Visualize the dependency parse tree with black background and white text\n",
        "    options = {'distance': 90, 'bg': '#000000', 'color': '#ffffff'}\n",
        "    displacy.render(doc, style=\"dep\", jupyter=True, options=options)\n",
        "    print()\n"
      ]
    }
  ],
  "metadata": {
    "colab": {
      "provenance": []
    },
    "kernelspec": {
      "display_name": "Python 3",
      "name": "python3"
    },
    "language_info": {
      "name": "python"
    }
  },
  "nbformat": 4,
  "nbformat_minor": 0
}
