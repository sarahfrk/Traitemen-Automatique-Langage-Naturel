{
  "cells": [
    {
      "cell_type": "markdown",
      "metadata": {},
      "source": [
        "## TP3: POS & NER tagging"
      ]
    },
    {
      "cell_type": "code",
      "execution_count": 1,
      "metadata": {
        "id": "NElN8VhxnuDX"
      },
      "outputs": [],
      "source": [
        "import spacy\n",
        "from collections import Counter\n",
        "from spacy.training.example import Example"
      ]
    },
    {
      "cell_type": "code",
      "execution_count": 2,
      "metadata": {
        "colab": {
          "base_uri": "https://localhost:8080/"
        },
        "id": "PXFBQi5toCkk",
        "outputId": "aa13afa6-9cbb-4b64-a0a3-5d92f7f1804e"
      },
      "outputs": [
        {
          "data": {
            "text/plain": [
              "<function __main__.custom_pos_tagger(doc)>"
            ]
          },
          "execution_count": 2,
          "metadata": {},
          "output_type": "execute_result"
        }
      ],
      "source": [
        "nlp = spacy.blank(\"en\")\n",
        "def is_plural_noun(token):\n",
        "    if token.pos_ in [ \"PROPN\", \"VERB\", \"ADJ\", \"ADV\" , \"ADP\", \"AUX\", \"CONJ\", \"DET\", \"INTJ\", \"NUM\", \"PART\", \"PRON\", \"SCONJ\", \"SYM\", \"X\" ]:\n",
        "        return False\n",
        "    if token.text.endswith('s') and len(token.text) > 1:\n",
        "        if token.text.lower() not in [\"is\", \"was\", \"has\", \"does\" , \"always\"] : # exception\n",
        "            if not (token.text.endswith(\"'s\") or token.text.endswith(\"s'\")): # possessive\n",
        "                return True\n",
        "    return False\n",
        "\n",
        "# Define a custom pipeline component for the POS tagger\n",
        "@nlp.component(\"custom_pos_tagger\")\n",
        "def custom_pos_tagger(doc):\n",
        "    for token in doc:\n",
        "        if is_plural_noun(token):\n",
        "            token.tag_ = \"NNS\"  # overwrite the token tag\n",
        "    return doc\n",
        "\n",
        "# Add the custom component to the pipeline\n",
        "nlp.add_pipe(\"custom_pos_tagger\") # add last to the pipeline\n"
      ]
    },
    {
      "cell_type": "code",
      "execution_count": 3,
      "metadata": {
        "id": "takXoYUboKSU"
      },
      "outputs": [],
      "source": [
        " # Prepare a training dataset with annotated POS tags\n",
        "training_data = [\n",
        "    (\"Cats are interesting animals.\", {\"tags\": [\"NNS\", \"VBP\", \"JJ\", \"NNS\", \".\"]}),\n",
        "    (\"Dogs and cats are friends.\", {\"tags\": [\"NNS\", \"CC\", \"NNS\", \"VBP\", \"NNS\", \".\"]}),\n",
        "    (\"Cats are from Venus.\", {\"tags\": [\"NNS\", \"VBP\", \"IN\", \"NNP\", \".\"]}),\n",
        "    (\"Dogs are from Mars.\", {\"tags\": [\"NNS\", \"VBP\", \"IN\", \"NNP\", \".\"]}),\n",
        "    (\"I have three dogs.\", {\"tags\": [\"PRP\", \"VBP\", \"DT\", \"NNS\", \".\"]}),\n",
        "    (\"I have five cars.\", {\"tags\": [\"PRP\", \"VBP\", \"DT\", \"NNS\", \".\"]}),\n",
        "    (\"I have ten cats and a dog.\", {\"tags\": [\"PRP\", \"VBP\", \"DT\", \"NNS\", \"CC\", \"DT\", \"NN\", \".\"]}),\n",
        "    (\"My cat's toys are green.\", {\"tags\": [\"PRP$\", \"NN\", \"POS\", \"NNS\", \"VBZ\", \"JJ\", \".\"]}),\n",
        "    (\"I thought dogs' toys were green.\", {\"tags\": [\"PRP\", \"VBD\", \"NNS\", \"POS\", \"NNS\", \"VBD\", \"JJ\", \".\"]}),\n",
        "]"
      ]
    },
    {
      "cell_type": "code",
      "execution_count": 4,
      "metadata": {
        "id": "zZ0S_NQ3oO34"
      },
      "outputs": [],
      "source": [
        "# Train the model\n",
        "optimizer = nlp.begin_training()\n",
        "losses = {}\n",
        "for text, annotations in training_data:\n",
        "    example = Example.from_dict(nlp.make_doc(text), annotations)\n",
        "    nlp.update([example] ,  sgd=optimizer,drop=0.35, losses=losses)"
      ]
    },
    {
      "cell_type": "code",
      "execution_count": 5,
      "metadata": {
        "colab": {
          "base_uri": "https://localhost:8080/"
        },
        "id": "dS2sa-K6n3DW",
        "outputId": "9a87e2da-dff0-4891-ad2a-bf0aae99b706"
      },
      "outputs": [
        {
          "name": "stdout",
          "output_type": "stream",
          "text": [
            "[('parks', 'NNS'), ('dogs', 'NNS'), ('adults', 'NNS'), ('picnics', 'NNS'), ('trees', 'NNS'), ('flowers', 'NNS'), ('gardens', 'NNS'), ('colors', 'NNS'), ('bees', 'NNS'), ('butterflies', 'NNS')]\n"
          ]
        }
      ],
      "source": [
        "# Test the custom POS tagger\n",
        "doc = nlp(\"The city's parks are always bustling with people and their dogs. Children run and play, while adults enjoy picnics under the trees. The flowers in the gardens bloom in many colors, attracting bees and butterflies. It's a peaceful and lively place for everyone to relax and unwind\")\n",
        "test_results = [token.text if token.tag_ == \"NNS\" else \"\" for token in doc]\n",
        "\n",
        "test_results = [(token.text, token.tag_) for token in doc if token.tag_ == \"NNS\"]\n",
        "print(test_results)\n",
        "#print((test_results, {\"tags\": [\"NNS\" if token.tag_ == \"NNS\" else \"\" for token in doc]}))"
      ]
    },
    {
      "cell_type": "code",
      "execution_count": 8,
      "metadata": {
        "colab": {
          "base_uri": "https://localhost:8080/"
        },
        "id": "J_TY9dhwoZUf",
        "outputId": "ad624c00-b50b-4f86-fe67-7ad4d7a52eba"
      },
      "outputs": [
        {
          "data": {
            "text/plain": [
              "1"
            ]
          },
          "execution_count": 8,
          "metadata": {},
          "output_type": "execute_result"
        }
      ],
      "source": [
        "from spacy.training.example import offsets_to_biluo_tags\n",
        "import random\n",
        "# to ignore warnings\n",
        "import warnings\n",
        "from spacy import displacy\n",
        "warnings.filterwarnings(\"ignore\")\n",
        "# Create a spaCy model with the \"ner\" component\n",
        "nlp = spacy.blank(\"en\")\n",
        "ner = nlp.add_pipe(\"ner\")\n",
        "\n",
        "# Add the new entity label \"COLOR\" to the NER model\n",
        "ner.add_label(\"COLOR\")"
      ]
    },
    {
      "cell_type": "code",
      "execution_count": 9,
      "metadata": {
        "id": "pkE8DXP2ofj8"
      },
      "outputs": [],
      "source": [
        "\n",
        "TRAIN_DATA = [\n",
        "    (\"The sky is blue.\", {\"entities\": [(11, 15, \"COLOR\")]}),\n",
        "    (\"The ocean is deep blue.\", {\"entities\": [(20, 24, \"COLOR\")]}),\n",
        "    (\"His favorite color is purple.\", {\"entities\": [(24, 30, \"COLOR\")]}),\n",
        "    (\"The ripe apple is red.\", {\"entities\": [(17, 20, \"COLOR\")]}),\n",
        "    (\"The card is red.\", {\"entities\": [(11, 15, \"COLOR\")]}),\n",
        "    (\"The leaves turned golden.\", {\"entities\": [(18, 24, \"COLOR\")]}),\n",
        "    (\"The sky at sunset is orange.\", {\"entities\": [(20, 26, \"COLOR\")]}),\n",
        "    (\"The flag is red, white, and blue.\", {\"entities\": [(11, 14, \"COLOR\"), (17, 22, \"COLOR\"), (29, 33, \"COLOR\")]}),\n",
        "    (\"The walls are green.\", {\"entities\": [(14, 19, \"COLOR\")]}),\n",
        "    (\"The flowers are pink.\", {\"entities\": [(17, 21, \"COLOR\")]}),\n",
        "    (\"The book has a brown cover.\", {\"entities\": [(17, 22, \"COLOR\")]}),\n",
        "    (\"The car is silver.\", {\"entities\": [(12, 18, \"COLOR\")]}),\n",
        "    (\"The shirt is black.\", {\"entities\": [(14, 19, \"COLOR\")]}),\n",
        "    (\"The clouds are gray.\", {\"entities\": [(16, 20, \"COLOR\")]}),\n",
        "    (\"The banana is yellow.\", {\"entities\": [(14, 20, \"COLOR\")]}),\n",
        "    (\"The sun is yellow.\", {\"entities\": [(11, 17, \"COLOR\")]}),\n",
        "    (\"The grapes are purple.\", {\"entities\": [(15, 21, \"COLOR\")]}),\n",
        "    (\"The door is white.\", {\"entities\": [(13, 18, \"COLOR\")]}),\n",
        "    (\"The sky at dawn is pink.\", {\"entities\": [(18, 22, \"COLOR\")]}),\n",
        "    (\"The sky at dusk is pink.\", {\"entities\": [(18, 22, \"COLOR\")]}),\n",
        "    (\"The sky at midnight is black.\", {\"entities\": [(22, 27, \"COLOR\")]}),\n",
        "    (\"The sky at noon is blue.\", {\"entities\": [(18, 22, \"COLOR\")]}),\n",
        "    (\"The sky is blue and sometimes has clouds.\", {\"entities\": [(11, 15, \"COLOR\")]}),\n",
        "    (\"The sky is blue and the sun is bright.\", {\"entities\": [(11, 15, \"COLOR\")]}),\n",
        "    (\"The sky is pink and clear.\", {\"entities\": [(11, 15, \"COLOR\")]}),\n",
        "    (\"The sky is blue and cloudless.\", {\"entities\": [(11, 15, \"COLOR\")]}),\n",
        "]"
      ]
    },
    {
      "cell_type": "code",
      "execution_count": 10,
      "metadata": {
        "id": "ZiaOuwa1olVM"
      },
      "outputs": [],
      "source": [
        "\n",
        "adjusted_train_data = []\n",
        "for text, entities in TRAIN_DATA:\n",
        "    doc = nlp.make_doc(text)\n",
        "    biluo_tags = offsets_to_biluo_tags(doc, entities.get(\"entities\"))\n",
        "\n",
        "    corrected_entities = []\n",
        "    for entity, tag in zip(entities.get(\"entities\"), biluo_tags):\n",
        "        if tag != 'U':  # Ignore single-character entities that couldn't be aligned\n",
        "            start, end, label = entity\n",
        "            adjusted_start = text.find(text[start:end])\n",
        "            adjusted_end = adjusted_start + len(text[start:end])\n",
        "            corrected_entities.append((adjusted_start, adjusted_end, label))\n",
        "\n",
        "    adjusted_train_data.append((text, {\"entities\": corrected_entities}))\n",
        "TRAIN_DATA = adjusted_train_data\n",
        "\n",
        "optimizer = nlp.begin_training()\n",
        "# Start the training loop\n",
        "for _ in range(20):  # Number of epochs\n",
        "    # Shuffle the training data\n",
        "    random.shuffle(TRAIN_DATA)\n",
        "    for text, annotations in TRAIN_DATA:\n",
        "        example = Example.from_dict(nlp.make_doc(text), annotations)\n",
        "        nlp.update([example], drop=0.2) # Decrease dropout rate to 20%\n",
        "\n",
        "# Save the model\n",
        "nlp.to_disk(\"custom_ner_model\")"
      ]
    },
    {
      "cell_type": "code",
      "execution_count": 11,
      "metadata": {
        "colab": {
          "base_uri": "https://localhost:8080/",
          "height": 87
        },
        "id": "FuV4e6qSoWU8",
        "outputId": "8484cc5c-cd6f-4f52-a7b2-4fa8dd73d46e"
      },
      "outputs": [
        {
          "data": {
            "text/html": [
              "<span class=\"tex2jax_ignore\"><div class=\"entities\" style=\"line-height: 2.5; direction: ltr\">The sky is \n",
              "<mark class=\"entity\" style=\"background: #7DF6D9; padding: 0.45em 0.6em; margin: 0 0.25em; line-height: 1; border-radius: 0.35em;\">\n",
              "    blue\n",
              "    <span style=\"font-size: 0.8em; font-weight: bold; line-height: 1; border-radius: 0.35em; vertical-align: middle; margin-left: 0.5rem\">COLOR</span>\n",
              "</mark>\n",
              ", he sunflower is \n",
              "<mark class=\"entity\" style=\"background: #7DF6D9; padding: 0.45em 0.6em; margin: 0 0.25em; line-height: 1; border-radius: 0.35em;\">\n",
              "    yellow\n",
              "    <span style=\"font-size: 0.8em; font-weight: bold; line-height: 1; border-radius: 0.35em; vertical-align: middle; margin-left: 0.5rem\">COLOR</span>\n",
              "</mark>\n",
              ", His favorite color is \n",
              "<mark class=\"entity\" style=\"background: #7DF6D9; padding: 0.45em 0.6em; margin: 0 0.25em; line-height: 1; border-radius: 0.35em;\">\n",
              "    purple\n",
              "    <span style=\"font-size: 0.8em; font-weight: bold; line-height: 1; border-radius: 0.35em; vertical-align: middle; margin-left: 0.5rem\">COLOR</span>\n",
              "</mark>\n",
              ", The leaves turned \n",
              "<mark class=\"entity\" style=\"background: #7DF6D9; padding: 0.45em 0.6em; margin: 0 0.25em; line-height: 1; border-radius: 0.35em;\">\n",
              "    golden\n",
              "    <span style=\"font-size: 0.8em; font-weight: bold; line-height: 1; border-radius: 0.35em; vertical-align: middle; margin-left: 0.5rem\">COLOR</span>\n",
              "</mark>\n",
              ", The walls are \n",
              "<mark class=\"entity\" style=\"background: #7DF6D9; padding: 0.45em 0.6em; margin: 0 0.25em; line-height: 1; border-radius: 0.35em;\">\n",
              "    green\n",
              "    <span style=\"font-size: 0.8em; font-weight: bold; line-height: 1; border-radius: 0.35em; vertical-align: middle; margin-left: 0.5rem\">COLOR</span>\n",
              "</mark>\n",
              " and the flowers are \n",
              "<mark class=\"entity\" style=\"background: #7DF6D9; padding: 0.45em 0.6em; margin: 0 0.25em; line-height: 1; border-radius: 0.35em;\">\n",
              "    pink\n",
              "    <span style=\"font-size: 0.8em; font-weight: bold; line-height: 1; border-radius: 0.35em; vertical-align: middle; margin-left: 0.5rem\">COLOR</span>\n",
              "</mark>\n",
              "</div></span>"
            ],
            "text/plain": [
              "<IPython.core.display.HTML object>"
            ]
          },
          "metadata": {},
          "output_type": "display_data"
        }
      ],
      "source": [
        "# Load the custom NER model\n",
        "nlp = spacy.load(\"custom_ner_model\")\n",
        "\n",
        "# Test sentences\n",
        "test_sentences=\"The sky is blue, he sunflower is yellow, His favorite color is purple, The leaves turned golden, The walls are green and the flowers are pink\"\n",
        "\n",
        "colors = {\"COLOR\": \"#7DF6D9\"}\n",
        "\n",
        "doc = nlp(test_sentences)\n",
        "entities = [{\"start\": ent.start_char, \"end\": ent.end_char, \"label\": ent.label_} for ent in doc.ents]\n",
        "options = {\"colors\": colors}\n",
        "displacy.render(doc, style=\"ent\", options=options, jupyter=True)"
      ]
    }
  ],
  "metadata": {
    "colab": {
      "provenance": []
    },
    "kernelspec": {
      "display_name": "Python 3",
      "name": "python3"
    },
    "language_info": {
      "name": "python"
    }
  },
  "nbformat": 4,
  "nbformat_minor": 0
}
