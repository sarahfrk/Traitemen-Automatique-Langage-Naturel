{
  "cells": [
    {
      "cell_type": "markdown",
      "metadata": {},
      "source": [
        "## TP1: Preprocessing of text data"
      ]
    },
    {
      "cell_type": "code",
      "execution_count": 5,
      "metadata": {
        "id": "Et4Kn5sevJmr"
      },
      "outputs": [],
      "source": [
        "import spacy\n",
        "import string\n",
        "from spacy.language import Language\n",
        "from spacy.tokens import Doc\n",
        "import nltk\n",
        "from nltk.stem import PorterStemmer\n",
        "\n",
        "nlp = spacy.load(\"en_core_web_sm\")\n",
        "stemmer = PorterStemmer()"
      ]
    },
    {
      "cell_type": "code",
      "execution_count": 19,
      "metadata": {
        "id": "g19_hIHvvHza"
      },
      "outputs": [],
      "source": [
        "def preprocess_text_with_spacy(text):\n",
        "    doc = nlp(text)\n",
        "\n",
        "    # Lower casing/ Stemming/ Lemmatization/ Removal of Stopwords/ Stemming/ Removal of Punctuations\n",
        "    preprocessed_tokens = [stemmer.stem(token.lemma_.lower()) for token in doc if not token.is_stop and token.text not in string.punctuation]\n",
        "\n",
        "    word_freq = {}\n",
        "    for token in preprocessed_tokens:\n",
        "        if token in word_freq:\n",
        "            word_freq[token] += 1\n",
        "        else:\n",
        "            word_freq[token] = 1\n",
        "\n",
        "    # Removal of Frequent words\n",
        "    freq_words = set(word for word, freq in word_freq.items() if freq > 10)\n",
        "    preprocessed_tokens = [token for token in preprocessed_tokens if token not in freq_words]\n",
        "\n",
        "    # Removal of Rare words\n",
        "    rare_words = set(word for word, freq in word_freq.items() if freq == 1)\n",
        "    preprocessed_tokens = [token for token in preprocessed_tokens if token not in rare_words]\n",
        "\n",
        "    preprocessed_text = \" \".join(preprocessed_tokens)\n",
        "\n",
        "    return preprocessed_text"
      ]
    },
    {
      "cell_type": "code",
      "execution_count": 20,
      "metadata": {
        "colab": {
          "base_uri": "https://localhost:8080/",
          "height": 53
        },
        "id": "-OuUZY4LviRR",
        "outputId": "0d7205f9-31ac-4e98-f4ce-649557d53f26"
      },
      "outputs": [
        {
          "data": {
            "application/vnd.google.colaboratory.intrinsic+json": {
              "type": "string"
            },
            "text/plain": [
              "'natur languag process nlp interact comput human natur languag comput understand human like languag nlp applic analysi languag applic like analysi process understand nlp machin drive languag drive interact human machin'"
            ]
          },
          "execution_count": 20,
          "metadata": {},
          "output_type": "execute_result"
        }
      ],
      "source": [
        "text_to_test = \"\"\"Natural language processing (NLP) is a subfield of artificial intelligence (AI) that focuses on the interaction between computers and humans through natural language. It involves the development of algorithms and models that enable computers to understand, interpret, and generate human-like language. NLP applications are diverse and can be found in various domains such as chatbots, sentiment analysis, language translation, and information extraction. These applications leverage techniques like tokenization, lemmatization, stemming, and syntactic analysis to process and understand text data. In this rapidly evolving field, staying updated with the latest advancements is crucial for NLP practitioners. The combination of machine learning and linguistic insights continues to drive innovation, opening up new possibilities for language-driven interactions between humans and machines.\"\"\"\n",
        "\n",
        "preprocessed_text = preprocess_text_with_spacy(text_to_test)\n",
        "preprocessed_text"
      ]
    }
  ],
  "metadata": {
    "colab": {
      "provenance": []
    },
    "kernelspec": {
      "display_name": "Python 3",
      "name": "python3"
    },
    "language_info": {
      "name": "python"
    }
  },
  "nbformat": 4,
  "nbformat_minor": 0
}
