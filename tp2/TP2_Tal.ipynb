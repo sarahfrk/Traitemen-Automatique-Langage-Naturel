{
  "nbformat": 4,
  "nbformat_minor": 0,
  "metadata": {
    "colab": {
      "provenance": []
    },
    "kernelspec": {
      "name": "python3",
      "display_name": "Python 3"
    },
    "language_info": {
      "name": "python"
    }
  },
  "cells": [
    {
      "cell_type": "markdown",
      "source": [
        "## TP2: Gensim – Vectorizing Text and Transformations and n-grams"
      ],
      "metadata": {
        "id": "V4NRkAcU7j3t"
      }
    },
    {
      "cell_type": "code",
      "source": [
        "import nltk\n",
        "nltk.download('reuters')\n",
        "nltk.download('punkt')"
      ],
      "metadata": {
        "colab": {
          "base_uri": "https://localhost:8080/"
        },
        "id": "diL5GLgT6F-v",
        "outputId": "0bc77521-e7dc-4407-cf31-195af2871157"
      },
      "execution_count": 53,
      "outputs": [
        {
          "output_type": "stream",
          "name": "stderr",
          "text": [
            "[nltk_data] Downloading package reuters to /root/nltk_data...\n",
            "[nltk_data]   Package reuters is already up-to-date!\n",
            "[nltk_data] Downloading package punkt to /root/nltk_data...\n",
            "[nltk_data]   Package punkt is already up-to-date!\n"
          ]
        },
        {
          "output_type": "execute_result",
          "data": {
            "text/plain": [
              "True"
            ]
          },
          "metadata": {},
          "execution_count": 53
        }
      ]
    },
    {
      "cell_type": "code",
      "source": [
        "import spacy\n",
        "import gensim\n",
        "from gensim import corpora\n",
        "from gensim import models\n",
        "from gensim.models.phrases import Phrases, Phraser\n",
        "from nltk.corpus import reuters\n",
        "nlp = spacy.load(\"en_core_web_sm\")\n",
        "corpus = reuters.sents(categories=[\"cpu\"])"
      ],
      "metadata": {
        "id": "yJ4NprDC6pe3"
      },
      "execution_count": 54,
      "outputs": []
    },
    {
      "cell_type": "code",
      "source": [
        "documents = [\" \".join(sent) for sent in corpus]\n",
        "\n",
        "texts = []\n",
        "\n",
        "for i, document in enumerate(documents):\n",
        "    text = []\n",
        "    doc = nlp(document)\n",
        "    for w in doc:\n",
        "        if not w.is_stop and not w.is_punct and not w.like_num:\n",
        "            text.append(w.lemma_)\n",
        "    texts.append(text)"
      ],
      "metadata": {
        "id": "38DhddhQ6zzC"
      },
      "execution_count": 55,
      "outputs": []
    },
    {
      "cell_type": "code",
      "source": [
        "# maps words to unique integer IDs\n",
        "dictionary = corpora.Dictionary(texts)\n",
        "print(dictionary.token2id)\n"
      ],
      "metadata": {
        "colab": {
          "base_uri": "https://localhost:8080/"
        },
        "id": "sZe42wZX65kN",
        "outputId": "6eef19ef-3a03-4772-f3a0-c725e269d2dc"
      },
      "execution_count": 56,
      "outputs": [
        {
          "output_type": "stream",
          "name": "stdout",
          "text": [
            "{'AUGUST': 0, 'CAPACITY': 1, 'INDUSTRIAL': 2, 'PCT': 3, 'RATE': 4, 'SEPTEMBER': 5, 'UNCHANGED': 6, 'USE': 7, 's': 8, 'u': 9, 'CANADA': 10, 'Canada': 11, 'MANUFACTURING': 12, 'Statistics': 13, 'UTILIZATION': 14, 'canadian': 15, 'capacity': 16, 'manufacturing': 17, 'pct': 18, 'quarter': 19, 'rate': 20, 'rise': 21, 'say': 22, 'utilization': 23, 'agency': 24, 'change': 25, 'federal': 26, 'mark': 27, 'small': 28, 'building': 29, 'construction': 30, 'increase': 31, 'industry': 32, 'lead': 33, 'material': 34, 'metallic': 35, 'mineral': 36, 'non': 37, 'residential': 38, 'sector': 39, 'strong': 40, 'FEB': 41, 'JAN': 42, 'ROSE': 43, 'Board': 44, 'December': 45, 'FEBRUARY': 46, 'February': 47, 'Federal': 48, 'January': 49, 'U': 50, 'compare': 51, 'factory': 52, 'mine': 53, 'operate': 54, 'reserve': 55, 'revise': 56, 'utility': 57, 'Fed': 58, 'previously': 59, 'assembly': 60, 'automobile': 61, 'gain': 62, 'help': 63, 'metal': 64, 'primary': 65, 'production': 66, 'raise': 67, 'surge': 68, 'durable': 69, 'manufacture': 70, 'month': 71, 'ease': 72, 'nondurable': 73, 'use': 74, 'fabricate': 75, 'jump': 76, 'motor': 77, 'part': 78, 'vehicle': 79, 'fall': 80, 'petroleum': 81, 'product': 82, 'mining': 83, 'industrial': 84, 'producer': 85, 'decline': 86, 'energy': 87, 'good': 88, 'past': 89, 'reason': 90, 'year': 91}\n"
          ]
        }
      ]
    },
    {
      "cell_type": "code",
      "source": [
        "# creation de bag of words (id,count)\n",
        "corpus = [dictionary.doc2bow(text) for text in texts]\n",
        "print(corpus)\n"
      ],
      "metadata": {
        "colab": {
          "base_uri": "https://localhost:8080/"
        },
        "id": "iOX8g3gf68IX",
        "outputId": "5404b079-6ff9-44f9-df07-84e471bd68f9"
      },
      "execution_count": 57,
      "outputs": [
        {
          "output_type": "stream",
          "name": "stdout",
          "text": [
            "[[(0, 1), (1, 1), (2, 1), (3, 1), (4, 1), (5, 1), (6, 1), (7, 1), (8, 1), (9, 1)], [(0, 1), (1, 1), (2, 1), (3, 1), (4, 1), (5, 1), (6, 1), (7, 1), (8, 1), (9, 1)], [(10, 1), (11, 1), (12, 1), (13, 1), (14, 1), (15, 1), (16, 1), (17, 1), (18, 2), (19, 2), (20, 1), (21, 2), (22, 1), (23, 1)], [(17, 1), (19, 2), (20, 1), (21, 1), (22, 1), (23, 1), (24, 1), (25, 1), (26, 1), (27, 1), (28, 1)], [(18, 1), (29, 1), (30, 1), (31, 3), (32, 1), (33, 2), (34, 1), (35, 1), (36, 1), (37, 1), (38, 1), (39, 1), (40, 1)], [(1, 1), (2, 1), (3, 2), (4, 1), (7, 1), (8, 1), (9, 1), (41, 1), (42, 1), (43, 1)], [(1, 1), (2, 1), (3, 2), (4, 1), (7, 1), (8, 1), (9, 1), (41, 1), (42, 1), (43, 1)], [(1, 1), (3, 1), (4, 1), (7, 1), (8, 2), (9, 1), (16, 1), (18, 2), (22, 1), (44, 1), (45, 1), (46, 1), (47, 1), (48, 1), (49, 1), (50, 1), (51, 1), (52, 1), (53, 1), (54, 1), (55, 1), (56, 1), (57, 1)], [(18, 2), (20, 1), (22, 1), (45, 1), (49, 1), (58, 1), (59, 1)], [(16, 1), (17, 1), (18, 2), (47, 1), (49, 1), (60, 1), (61, 1), (62, 1), (63, 1), (64, 1), (65, 1), (66, 1), (67, 1), (68, 1)], [(18, 2), (22, 1), (31, 1), (49, 1), (58, 1), (69, 1), (70, 1), (71, 1)], [(16, 1), (17, 1), (18, 2), (49, 1), (72, 1), (73, 1), (74, 1)], [(8, 1), (18, 1), (20, 1), (47, 1), (71, 1)], [(18, 3), (31, 1), (47, 1), (49, 2), (64, 1), (75, 1), (76, 1), (77, 1), (78, 1), (79, 1)], [(18, 2), (21, 1), (49, 1), (64, 1), (65, 1)], [(18, 2), (47, 1), (49, 1), (80, 1), (81, 1), (82, 1)], [(16, 1), (18, 3), (20, 1), (21, 1), (22, 1), (23, 1), (47, 2), (49, 1), (58, 1), (83, 1)], [(18, 2), (20, 1), (49, 1), (57, 1), (71, 1), (74, 1)], [(16, 1), (18, 2), (20, 1), (34, 1), (45, 1), (47, 1), (49, 1), (54, 1), (84, 1), (85, 1)], [(22, 1), (34, 3), (58, 1), (69, 1), (74, 1), (84, 1), (85, 1), (86, 2), (87, 1), (88, 1), (89, 1), (90, 1), (91, 1)]]\n"
          ]
        }
      ]
    },
    {
      "cell_type": "code",
      "source": [
        "# TF-IDF\n",
        "# TF-IDF is a numerical statistic that reflects the importance of a word in a\n",
        "# document relative to a collection of documents.\n",
        "tfidf = models.TfidfModel(corpus)\n",
        "for document in tfidf[corpus]:\n",
        "    print(document)\n"
      ],
      "metadata": {
        "id": "oBaoLLSw6_j_",
        "outputId": "c4e4c9f9-fb11-4fc7-838f-19efdc22b127",
        "colab": {
          "base_uri": "https://localhost:8080/"
        }
      },
      "execution_count": 58,
      "outputs": [
        {
          "output_type": "stream",
          "name": "stdout",
          "text": [
            "[(0, 0.4235485299204986), (1, 0.25500162425090656), (2, 0.29604771779504524), (3, 0.25500162425090656), (4, 0.25500162425090656), (5, 0.4235485299204986), (6, 0.4235485299204986), (7, 0.25500162425090656), (8, 0.2214645238901618), (9, 0.25500162425090656)]\n",
            "[(0, 0.4235485299204986), (1, 0.25500162425090656), (2, 0.29604771779504524), (3, 0.25500162425090656), (4, 0.25500162425090656), (5, 0.4235485299204986), (6, 0.4235485299204986), (7, 0.25500162425090656), (8, 0.2214645238901618), (9, 0.25500162425090656)]\n",
            "[(10, 0.3061219610608839), (11, 0.3061219610608839), (12, 0.3061219610608839), (13, 0.3061219610608839), (14, 0.3061219610608839), (15, 0.3061219610608839), (16, 0.12302919028441175), (17, 0.1644620563424265), (18, 0.07289438663373786), (19, 0.47058401740331046), (20, 0.10727714567609761), (21, 0.328924112684853), (22, 0.10727714567609761), (23, 0.19385914264364043)]\n",
            "[(17, 0.1833368319997831), (19, 0.5245914155470592), (20, 0.11958899500371396), (21, 0.1833368319997831), (22, 0.11958899500371396), (23, 0.21610772634678774), (24, 0.3412545835472761), (25, 0.3412545835472761), (26, 0.3412545835472761), (27, 0.3412545835472761), (28, 0.3412545835472761)]\n",
            "[(18, 0.028855721579764723), (29, 0.24236077661804697), (30, 0.24236077661804697), (31, 0.46044248706753443), (32, 0.24236077661804697), (33, 0.48472155323609395), (34, 0.15348082902251148), (35, 0.24236077661804697), (36, 0.24236077661804697), (37, 0.24236077661804697), (38, 0.24236077661804697), (39, 0.24236077661804697), (40, 0.24236077661804697)]\n",
            "[(1, 0.23326249386528666), (2, 0.27080936899465), (3, 0.4665249877305733), (4, 0.23326249386528666), (7, 0.23326249386528666), (8, 0.20258446312670436), (9, 0.23326249386528666), (41, 0.3874406159272934), (42, 0.3874406159272934), (43, 0.3874406159272934)]\n",
            "[(1, 0.23326249386528666), (2, 0.27080936899465), (3, 0.4665249877305733), (4, 0.23326249386528666), (7, 0.23326249386528666), (8, 0.20258446312670436), (9, 0.23326249386528666), (41, 0.3874406159272934), (42, 0.3874406159272934), (43, 0.3874406159272934)]\n",
            "[(1, 0.12932890848581177), (3, 0.12932890848581177), (4, 0.12932890848581177), (7, 0.12932890848581177), (8, 0.22463986437092498), (9, 0.12932890848581177), (16, 0.11231993218546249), (18, 0.06654918677815361), (22, 0.0979390476319827), (44, 0.27947512153297327), (45, 0.17698438642836836), (46, 0.27947512153297327), (47, 0.0979390476319827), (48, 0.27947512153297327), (49, 0.055772863923139904), (50, 0.27947512153297327), (51, 0.27947512153297327), (52, 0.27947512153297327), (53, 0.27947512153297327), (54, 0.2148106672900674), (55, 0.27947512153297327), (56, 0.27947512153297327), (57, 0.2148106672900674)]\n",
            "[(18, 0.16705446572763977), (20, 0.24585056659784274), (22, 0.24585056659784274), (45, 0.44427337956037927), (49, 0.14000330335875805), (58, 0.3769031090528052), (59, 0.701549776520851)]\n",
            "[(16, 0.13655955476350248), (17, 0.182549077480659), (18, 0.08091108264997748), (47, 0.11907514969383211), (49, 0.06780913518228754), (60, 0.3397882942183458), (61, 0.3397882942183458), (62, 0.3397882942183458), (63, 0.3397882942183458), (64, 0.2151791631323458), (65, 0.2611686858495024), (66, 0.3397882942183458), (67, 0.3397882942183458), (68, 0.3397882942183458)]\n",
            "[(18, 0.1398103693994206), (22, 0.2057559992987018), (31, 0.3718190054968919), (49, 0.11717084888733108), (58, 0.3154358231307326), (69, 0.4512866377297242), (70, 0.5871374523287157), (71, 0.3718190054968919)]\n",
            "[(16, 0.23408358131978596), (17, 0.3129165285966239), (18, 0.13869374448363322), (49, 0.116235039262955), (72, 0.5824481555971609), (73, 0.5824481555971609), (74, 0.3688493948200544)]\n",
            "[(8, 0.4431859689996229), (18, 0.1312931073520994), (20, 0.38644264542476625), (47, 0.38644264542476625), (71, 0.6983355070722898)]\n",
            "[(18, 0.14331230494931463), (31, 0.2540881573168077), (47, 0.14060648311621213), (49, 0.16014095376992205), (64, 0.2540881573168077), (75, 0.40122928400209346), (76, 0.40122928400209346), (77, 0.40122928400209346), (78, 0.40122928400209346), (79, 0.40122928400209346)]\n",
            "[(18, 0.20292556443937107), (21, 0.4578343704273683), (49, 0.17006578802731098), (64, 0.5396708547717712), (65, 0.6550129012507262)]\n",
            "[(18, 0.13271392878242308), (47, 0.19531231592323772), (49, 0.11122353628996103), (80, 0.5573357567723402), (81, 0.5573357567723402), (82, 0.5573357567723402)]\n",
            "[(16, 0.2303490552977426), (18, 0.20472157532825863), (20, 0.2008563098269728), (21, 0.30792431636122103), (22, 0.2008563098269728), (23, 0.36296484001529583), (47, 0.4017126196539456), (49, 0.11438064701402692), (58, 0.30792431636122103), (83, 0.5731558857963276)]\n",
            "[(18, 0.18753912711483683), (20, 0.27599741473309797), (49, 0.1571708795136449), (57, 0.605347818491443), (71, 0.4987513589666748), (74, 0.4987513589666748)]\n",
            "[(16, 0.22907313180392191), (18, 0.13572506978640167), (20, 0.19974374922081314), (34, 0.3609543461315342), (45, 0.3609543461315342), (47, 0.19974374922081314), (49, 0.1137470826411452), (54, 0.4380999110627571), (84, 0.4380999110627571), (85, 0.4380999110627571)]\n",
            "[(22, 0.08990310198675043), (34, 0.487388198921062), (58, 0.13782664453942728), (69, 0.19718534942047286), (74, 0.16246273297368732), (84, 0.19718534942047286), (85, 0.19718534942047286), (86, 0.5130881086030368), (87, 0.2565440543015184), (88, 0.2565440543015184), (89, 0.2565440543015184), (90, 0.2565440543015184), (91, 0.2565440543015184)]\n"
          ]
        }
      ]
    },
    {
      "cell_type": "code",
      "source": [
        "# Add bigram and trigram extraction using Gensim's Phrases\n",
        "bigram = Phrases(texts, min_count=1, threshold=1)\n",
        "trigram = Phrases(bigram[texts], min_count=1, threshold=1)\n",
        "\n",
        "texts = [trigram[bigram[text]] for text in texts]\n"
      ],
      "metadata": {
        "id": "FHyAAWZf7Cl0"
      },
      "execution_count": 59,
      "outputs": []
    },
    {
      "cell_type": "code",
      "source": [
        "from prettytable import PrettyTable\n",
        "# Create a table using PrettyTable\n",
        "table = PrettyTable()\n",
        "table.field_names = [\"Document\", \"Original Text\", \"Bigrams and Trigrams\"]\n",
        "\n",
        "# Print the documents along with their bigrams and trigrams\n",
        "for i, (doc, text) in enumerate(zip(documents, texts)):\n",
        "    table.add_row([i + 1, doc, text])\n",
        "    #print(f\"Document {i + 1}:\")\n",
        "    #print(\"Original Text:\")\n",
        "    #print(doc)\n",
        "    #print(\"Bigrams and Trigrams:\")\n",
        "    #print(text)\n",
        "    #print(\"\\n\")\n",
        "print(table)"
      ],
      "metadata": {
        "colab": {
          "base_uri": "https://localhost:8080/"
        },
        "id": "wxQ5obow6A99",
        "outputId": "2fa5d031-2241-4be8-f08a-728e65252e0c"
      },
      "execution_count": 60,
      "outputs": [
        {
          "output_type": "stream",
          "name": "stdout",
          "text": [
            "+----------+-----------------------------------------------------------------------------------------------------------------------------------------------------------------------------------------------------------------------------------------+-------------------------------------------------------------------------------------------------------------------------------------------------------------------------------------------------------------------+\n",
            "| Document |                                                                                                              Original Text                                                                                                              |                                                                                                Bigrams and Trigrams                                                                                               |\n",
            "+----------+-----------------------------------------------------------------------------------------------------------------------------------------------------------------------------------------------------------------------------------------+-------------------------------------------------------------------------------------------------------------------------------------------------------------------------------------------------------------------+\n",
            "|    1     |                                                                           U . S . INDUSTRIAL CAPACITY USE RATE 81 . 2 PCT IN SEPTEMBER , UNCHANGED FROM AUGUST                                                                          |                                                                     ['u_s_INDUSTRIAL_CAPACITY', 'USE_RATE_PCT_SEPTEMBER', 'UNCHANGED_AUGUST']                                                                     |\n",
            "|    2     |                                                                           U . S . INDUSTRIAL CAPACITY USE RATE 81 . 2 PCT IN SEPTEMBER , UNCHANGED FROM AUGUST                                                                          |                                                                     ['u_s_INDUSTRIAL_CAPACITY', 'USE_RATE_PCT_SEPTEMBER', 'UNCHANGED_AUGUST']                                                                     |\n",
            "|    3     |                 CANADA MANUFACTURING UTILIZATION RATE RISES Utilization of Canadian manufacturing capacity rose to 77 . 2 pct in the fourth quarter of 1986 from 77 pct in the third quarter , Statistics Canada said .                 |              ['CANADA', 'MANUFACTURING', 'UTILIZATION', 'rate', 'rise', 'utilization', 'canadian', 'manufacturing', 'capacity', 'rise_pct', 'quarter', 'pct_quarter', 'Statistics', 'Canada', 'say']              |\n",
            "|    4     |                      \" Although the change was small , this marked the first quarter since the third quarter of 1985 in which the utilization rates for manufacturing as a whole rose ,\" the federal agency said .                      |                                           ['change', 'small', 'mark', 'quarter', 'quarter', 'utilization', 'rate', 'manufacturing', 'rise', 'federal', 'agency', 'say']                                           |\n",
            "|    5     |                                     Increased residential construction led to strong increases in the building materials sector , led by a 3 . 3 pct increase in non - metallic mineral industries .                                    |                  ['increase', 'residential', 'construction', 'lead', 'strong', 'increase', 'building', 'material', 'sector', 'lead', 'pct', 'increase', 'non', 'metallic', 'mineral', 'industry']                 |\n",
            "|    6     |                                                                          U . S . INDUSTRIAL CAPACITY USE RATE ROSE TO 79 . 8 PCT IN FEB FROM 79 . 6 PCT IN JAN                                                                          |                                                                          ['u_s_INDUSTRIAL_CAPACITY', 'USE_RATE_ROSE_PCT', 'FEB_PCT_JAN']                                                                          |\n",
            "|    7     |                                                                          U . S . INDUSTRIAL CAPACITY USE RATE ROSE TO 79 . 8 PCT IN FEB FROM 79 . 6 PCT IN JAN                                                                          |                                                                          ['u_s_INDUSTRIAL_CAPACITY', 'USE_RATE_ROSE_PCT', 'FEB_PCT_JAN']                                                                          |\n",
            "|    8     | U . S . CAPACITY USE RATE 79 . 8 PCT IN FEBRUARY U . S . factories , mines and utilities operated at 79 . 8 pct of capacity in February , compared with a revised 79 . 6 pct in January and December , the Federal reserve Board said . | ['u_s', 'CAPACITY_USE', 'RATE_PCT', 'FEBRUARY', 'U', 's', 'factory', 'mine', 'utility', 'operate_pct_capacity', 'February', 'compare', 'revise', 'pct_January', 'December', 'Federal', 'reserve', 'Board', 'say'] |\n",
            "|    9     |                                                                         The Fed previously said the rate was 79 . 7 pct in January and 79 . 5 pct in December .                                                                         |                                                                       ['Fed', 'previously', 'say', 'rate_pct', 'January', 'pct', 'December']                                                                      |\n",
            "|    10    |                                   A surge in automobile assemblies in February and a gain in primary metals production helped raise manufacturing to 80 . 1 pct capacity from 79 . 9 pct in January .                                   |                              ['surge', 'automobile', 'assembly', 'February', 'gain', 'primary_metal', 'production', 'help', 'raise', 'manufacturing', 'pct_capacity', 'pct_January']                              |\n",
            "|    11    |                                                                  Durables manufacturing increased to 76 . 8 pct last month from 76 . 3 pct in January , the Fed said .                                                                  |                                                                   ['durable', 'manufacture', 'increase_pct', 'month_pct', 'January', 'Fed_say']                                                                   |\n",
            "|    12    |                                                                        Nondurable manufacturing eased to 85 . 2 pct of capacity use from 85 . 4 pct in January .                                                                        |                                                                   ['nondurable', 'manufacturing', 'ease', 'pct_capacity', 'use', 'pct_January']                                                                   |\n",
            "|    13    |                                                                                    Last month ' s rate was down from 80 . 2 pct in February , 1986 .                                                                                    |                                                                                       ['month', 's', 'rate_pct', 'February']                                                                                      |\n",
            "|    14    |                                     Fabricated metals increased to 81 . 4 pct in February from 81 . 2 pct in January , while motor vehicles and parts jumped to 83 . 6 pct from 80 . 0 in January .                                     |                                                 ['fabricate', 'metal', 'increase_pct', 'February_pct_January', 'motor', 'vehicle', 'part', 'jump', 'pct_January']                                                 |\n",
            "|    15    |                                                                                      Primary metals rose to 67 . 7 pct from 66 . 7 pct in January .                                                                                     |                                                                                    ['primary_metal', 'rise_pct', 'pct_January']                                                                                   |\n",
            "|    16    |                                                                              Petroleum products fell to 92 . 5 pct in February from 94 . 5 pct in January .                                                                             |                                                                          ['petroleum', 'product', 'fall', 'pct_February', 'pct_January']                                                                          |\n",
            "|    17    |                                     Capacity utilization for mining rose to 75 . 3 pct in February from 75 . 1 pct in January , but was below the February 1986 rate of 79 . 4 pct , the Fed said .                                     |                                                     ['capacity', 'utilization', 'mining', 'rise_pct', 'February_pct_January', 'February_rate_pct', 'Fed_say']                                                     |\n",
            "|    18    |                                                                         The use rate for utilities was up to 80 . 8 pct last month from 80 . 4 pct in January .                                                                         |                                                                               ['use', 'rate', 'utility', 'pct_month', 'pct_January']                                                                              |\n",
            "|    19    |                                    Producers of industrial materials operated at 78 . 9 pct of capacity , the same as in January and December , but down from the February 1986 rate of 79 . 6 pct .                                    |                                                         ['producer_industrial_material', 'operate_pct_capacity', 'January_December', 'February_rate_pct']                                                         |\n",
            "|    20    |                                 The Fed said the decline in energy materials use and durables goods materials were the reason for the decline over the past year for producers of industrial materials .                                |                              ['Fed_say', 'decline', 'energy', 'material', 'use', 'durable', 'good', 'material', 'reason', 'decline', 'past', 'year', 'producer_industrial_material']                              |\n",
            "+----------+-----------------------------------------------------------------------------------------------------------------------------------------------------------------------------------------------------------------------------------------+-------------------------------------------------------------------------------------------------------------------------------------------------------------------------------------------------------------------+\n"
          ]
        }
      ]
    }
  ]
}